{
 "cells": [
  {
   "cell_type": "markdown",
   "metadata": {},
   "source": [
    "# Final Project Submission\n",
    "\n",
    "## Please fill out:\n",
    "* Student name:\n",
    "    - Carl Cook\n",
    "* Student pace: \n",
    "    - Part-Time\n",
    "* Scheduled project review date/time: \n",
    "    - June 10, 2020 4:30 pm\n",
    "* Instructor name: \n",
    "    - James Irving\n",
    "* Blog post URL:\n",
    "    - https://katmandoone.github.io/apis_or_how_i_started_my_whole_project_over_again"
   ]
  },
  {
   "cell_type": "markdown",
   "metadata": {},
   "source": [
    "# Introduction\n",
    "\n",
    "In this notebook, we will be using the tmdb.org API to gather information about the film industry in recent years. Our goal is to find out what a new movie studio can do to make their first film a success. Specifically, we will look at genres, screenwriters, and associated keywords. With this information, we should be able to come up with some good ideas in regards to what kinds of films to consider and who to hire to write the screenplay."
   ]
  },
  {
   "cell_type": "markdown",
   "metadata": {},
   "source": [
    "# Questions"
   ]
  },
  {
   "cell_type": "markdown",
   "metadata": {},
   "source": [
    "## Q: What genres perform the best?\n",
    "\n",
    "- A: The genres with the highest average revenues are: Adventure, Science Fiction, Fantasy, Family, Animation, and Action. These genres are not mutually exclusive.\n",
    "\n",
    "- Recommendation: I would recommend a Science Fiction movie, as the genre consistently earns above-average revenue. A Science Fiction film can also easily double as an Action or Adventure film, both of which are also consistently high earners."
   ]
  },
  {
   "cell_type": "markdown",
   "metadata": {},
   "source": [
    "### TMDB API\n",
    "\n",
    "Here we use the TMDB API to gather our own information to work with. This is probably our best information source."
   ]
  },
  {
   "cell_type": "code",
   "execution_count": 3,
   "metadata": {
    "pycharm": {
     "name": "#%%\n"
    }
   },
   "outputs": [],
   "source": [
    "import json\n",
    "import pandas as pd\n",
    "import requests\n",
    "import matplotlib.pyplot as plt"
   ]
  },
  {
   "cell_type": "markdown",
   "metadata": {},
   "source": [
    "#### Function to supply API key"
   ]
  },
  {
   "cell_type": "code",
   "execution_count": 4,
   "metadata": {
    "pycharm": {
     "name": "#%%\n"
    }
   },
   "outputs": [],
   "source": [
    "def get_key(path):\n",
    "    with open(path) as f:\n",
    "        return json.load(f)"
   ]
  },
  {
   "cell_type": "code",
   "execution_count": 5,
   "metadata": {
    "pycharm": {
     "name": "#%%\n"
    }
   },
   "outputs": [],
   "source": [
    "key = get_key(\"/Users/katma/.secret/tmdb_api.json\")\n",
    "api_key = key[\"api_key\"]"
   ]
  },
  {
   "cell_type": "markdown",
   "metadata": {},
   "source": [
    "#### Building DataFrame"
   ]
  },
  {
   "cell_type": "code",
   "execution_count": 6,
   "metadata": {
    "pycharm": {
     "name": "#%%\n"
    }
   },
   "outputs": [],
   "source": [
    "columns = ['id', 'title', 'revenue', 'budget', 'writer', 'director', 'genres', 'year', 'date', 'keywords']\n",
    "df = pd.DataFrame(columns=columns)\n",
    "years = ['2010', '2011', '2012', '2013', '2014', '2015', '2016', '2017', '2018', '2019']"
   ]
  },
  {
   "cell_type": "markdown",
   "metadata": {},
   "source": [
    "#### Filling DataFrame\n",
    "\n",
    "This code takes a long time to run, and the resulting dataframe has been pickled below to save you the trouble."
   ]
  },
  {
   "cell_type": "code",
   "execution_count": null,
   "metadata": {
    "pycharm": {
     "name": "#%%\n"
    }
   },
   "outputs": [],
   "source": [
    "# Loops from 2010 to 2019\n",
    "count = 1\n",
    "for x in years:\n",
    "    print('**'+x+'**')\n",
    "    page = 1\n",
    "    # Grabs first 10 pages from API\n",
    "    while page <= 10:\n",
    "        url = 'https://api.themoviedb.org/3/discover/movie?api_key=' + api_key + \\\n",
    "            '&language=en-US&sort_by=revenue.desc&include_adult=false&include_video=false&page=' + \\\n",
    "            str(page) + '&primary_release_year=' + str(x)\n",
    "        by_year = requests.get(url)\n",
    "        year = by_year.json()\n",
    "        results = year['results']\n",
    "        page += 1\n",
    "        # Pulls information for each film on the current page\n",
    "        for film in results:\n",
    "            print(str(count)+': '+film['title'])\n",
    "            count += 1\n",
    "            try:\n",
    "                film_rev = requests.get('https://api.themoviedb.org/3/movie/' + str(film['id']) +\\\n",
    "                                        '?api_key=' + api_key).json()\n",
    "                crew = requests.get('https://api.themoviedb.org/3/movie/' + str(film['id']) +\\\n",
    "                                    '/credits?api_key=' + api_key).json()\n",
    "                keywords = requests.get('https://api.themoviedb.org/3/movie/' +str(film['id']) +\\\n",
    "                                        '/keywords?api_key=' + api_key).json()\n",
    "                details = [str(film['id']), film['title'], film_rev['revenue'], film_rev['budget'],\\\n",
    "                           [x['name'] for x in crew['crew'] if x['job']=='Screenplay' or (x['job']=='Writer')],\\\n",
    "                           [x['name'] for x in crew['crew'] if (x['job']=='Director')],\\\n",
    "                           [x['name'] for x in film_rev['genres']], film_rev['release_date'][:4],\\\n",
    "                           film_rev['release_date'][5:], [x['name'] for x in keywords['keywords']]]\n",
    "                df.loc[len(df)]=details\n",
    "            except:\n",
    "                continue"
   ]
  },
  {
   "cell_type": "markdown",
   "metadata": {},
   "source": [
    "#### Check the DataFrame"
   ]
  },
  {
   "cell_type": "code",
   "execution_count": null,
   "metadata": {
    "pycharm": {
     "name": "#%%\n"
    }
   },
   "outputs": [],
   "source": [
    "# df.to_pickle('./dataframe.pkl')"
   ]
  },
  {
   "cell_type": "code",
   "execution_count": 7,
   "metadata": {
    "pycharm": {
     "name": "#%%\n"
    }
   },
   "outputs": [],
   "source": [
    "df = pd.read_pickle('./dataframe.pkl')"
   ]
  },
  {
   "cell_type": "code",
   "execution_count": 8,
   "metadata": {
    "pycharm": {
     "name": "#%%\n"
    }
   },
   "outputs": [
    {
     "data": {
      "text/html": [
       "<div>\n",
       "<style scoped>\n",
       "    .dataframe tbody tr th:only-of-type {\n",
       "        vertical-align: middle;\n",
       "    }\n",
       "\n",
       "    .dataframe tbody tr th {\n",
       "        vertical-align: top;\n",
       "    }\n",
       "\n",
       "    .dataframe thead th {\n",
       "        text-align: right;\n",
       "    }\n",
       "</style>\n",
       "<table border=\"1\" class=\"dataframe\">\n",
       "  <thead>\n",
       "    <tr style=\"text-align: right;\">\n",
       "      <th></th>\n",
       "      <th>id</th>\n",
       "      <th>title</th>\n",
       "      <th>revenue</th>\n",
       "      <th>budget</th>\n",
       "      <th>writer</th>\n",
       "      <th>director</th>\n",
       "      <th>genres</th>\n",
       "      <th>year</th>\n",
       "      <th>date</th>\n",
       "      <th>keywords</th>\n",
       "    </tr>\n",
       "  </thead>\n",
       "  <tbody>\n",
       "    <tr>\n",
       "      <td>0</td>\n",
       "      <td>10193</td>\n",
       "      <td>Toy Story 3</td>\n",
       "      <td>1066969703</td>\n",
       "      <td>200000000</td>\n",
       "      <td>[Michael Arndt]</td>\n",
       "      <td>[Lee Unkrich]</td>\n",
       "      <td>[Animation, Family, Comedy]</td>\n",
       "      <td>2010</td>\n",
       "      <td>06-16</td>\n",
       "      <td>[hostage, college, toy, escape, daycare, teddy...</td>\n",
       "    </tr>\n",
       "    <tr>\n",
       "      <td>1</td>\n",
       "      <td>12155</td>\n",
       "      <td>Alice in Wonderland</td>\n",
       "      <td>1025467110</td>\n",
       "      <td>200000000</td>\n",
       "      <td>[Linda Woolverton]</td>\n",
       "      <td>[Tim Burton]</td>\n",
       "      <td>[Family, Fantasy, Adventure]</td>\n",
       "      <td>2010</td>\n",
       "      <td>03-03</td>\n",
       "      <td>[based on novel or book, queen, fantasy world,...</td>\n",
       "    </tr>\n",
       "    <tr>\n",
       "      <td>2</td>\n",
       "      <td>12444</td>\n",
       "      <td>Harry Potter and the Deathly Hallows: Part 1</td>\n",
       "      <td>954305868</td>\n",
       "      <td>250000000</td>\n",
       "      <td>[Steve Kloves]</td>\n",
       "      <td>[David Yates]</td>\n",
       "      <td>[Adventure, Fantasy]</td>\n",
       "      <td>2010</td>\n",
       "      <td>10-17</td>\n",
       "      <td>[corruption, isolation, radio, magic, teleport...</td>\n",
       "    </tr>\n",
       "    <tr>\n",
       "      <td>3</td>\n",
       "      <td>27205</td>\n",
       "      <td>Inception</td>\n",
       "      <td>825532764</td>\n",
       "      <td>160000000</td>\n",
       "      <td>[Christopher Nolan]</td>\n",
       "      <td>[Christopher Nolan]</td>\n",
       "      <td>[Action, Science Fiction, Adventure]</td>\n",
       "      <td>2010</td>\n",
       "      <td>07-15</td>\n",
       "      <td>[paris, france, spy, philosophy, hotel, allego...</td>\n",
       "    </tr>\n",
       "    <tr>\n",
       "      <td>4</td>\n",
       "      <td>10192</td>\n",
       "      <td>Shrek Forever After</td>\n",
       "      <td>752600867</td>\n",
       "      <td>165000000</td>\n",
       "      <td>[Josh Klausner, Darren Lemke, Alejandro Bien-W...</td>\n",
       "      <td>[Mike Mitchell]</td>\n",
       "      <td>[Comedy, Adventure, Fantasy, Animation, Family]</td>\n",
       "      <td>2010</td>\n",
       "      <td>05-16</td>\n",
       "      <td>[ogre, 3d]</td>\n",
       "    </tr>\n",
       "  </tbody>\n",
       "</table>\n",
       "</div>"
      ],
      "text/plain": [
       "      id                                         title     revenue     budget  \\\n",
       "0  10193                                   Toy Story 3  1066969703  200000000   \n",
       "1  12155                           Alice in Wonderland  1025467110  200000000   \n",
       "2  12444  Harry Potter and the Deathly Hallows: Part 1   954305868  250000000   \n",
       "3  27205                                     Inception   825532764  160000000   \n",
       "4  10192                           Shrek Forever After   752600867  165000000   \n",
       "\n",
       "                                              writer             director  \\\n",
       "0                                    [Michael Arndt]        [Lee Unkrich]   \n",
       "1                                 [Linda Woolverton]         [Tim Burton]   \n",
       "2                                     [Steve Kloves]        [David Yates]   \n",
       "3                                [Christopher Nolan]  [Christopher Nolan]   \n",
       "4  [Josh Klausner, Darren Lemke, Alejandro Bien-W...      [Mike Mitchell]   \n",
       "\n",
       "                                            genres  year   date  \\\n",
       "0                      [Animation, Family, Comedy]  2010  06-16   \n",
       "1                     [Family, Fantasy, Adventure]  2010  03-03   \n",
       "2                             [Adventure, Fantasy]  2010  10-17   \n",
       "3             [Action, Science Fiction, Adventure]  2010  07-15   \n",
       "4  [Comedy, Adventure, Fantasy, Animation, Family]  2010  05-16   \n",
       "\n",
       "                                            keywords  \n",
       "0  [hostage, college, toy, escape, daycare, teddy...  \n",
       "1  [based on novel or book, queen, fantasy world,...  \n",
       "2  [corruption, isolation, radio, magic, teleport...  \n",
       "3  [paris, france, spy, philosophy, hotel, allego...  \n",
       "4                                         [ogre, 3d]  "
      ]
     },
     "execution_count": 8,
     "metadata": {},
     "output_type": "execute_result"
    }
   ],
   "source": [
    "df.head()"
   ]
  },
  {
   "cell_type": "code",
   "execution_count": 9,
   "metadata": {
    "pycharm": {
     "name": "#%%\n"
    }
   },
   "outputs": [
    {
     "data": {
      "text/plain": [
       "1991"
      ]
     },
     "execution_count": 9,
     "metadata": {},
     "output_type": "execute_result"
    }
   ],
   "source": [
    "len(df.title.unique())"
   ]
  },
  {
   "cell_type": "code",
   "execution_count": 10,
   "metadata": {
    "pycharm": {
     "name": "#%%\n"
    }
   },
   "outputs": [
    {
     "data": {
      "text/plain": [
       "(1995, 10)"
      ]
     },
     "execution_count": 10,
     "metadata": {},
     "output_type": "execute_result"
    }
   ],
   "source": [
    "df.shape"
   ]
  },
  {
   "cell_type": "code",
   "execution_count": 11,
   "metadata": {
    "pycharm": {
     "name": "#%%\n"
    }
   },
   "outputs": [
    {
     "data": {
      "text/plain": [
       "id          object\n",
       "title       object\n",
       "revenue      int64\n",
       "budget       int64\n",
       "writer      object\n",
       "director    object\n",
       "genres      object\n",
       "year        object\n",
       "date        object\n",
       "keywords    object\n",
       "dtype: object"
      ]
     },
     "execution_count": 11,
     "metadata": {},
     "output_type": "execute_result"
    }
   ],
   "source": [
    "df.dtypes"
   ]
  },
  {
   "cell_type": "markdown",
   "metadata": {},
   "source": [
    "#### Convert 'budget' and 'revenue' columns to numeric data"
   ]
  },
  {
   "cell_type": "code",
   "execution_count": 12,
   "metadata": {
    "pycharm": {
     "name": "#%%\n"
    }
   },
   "outputs": [],
   "source": [
    "df['revenue'] = pd.to_numeric(df.revenue)\n",
    "df['budget'] = pd.to_numeric(df.budget)"
   ]
  },
  {
   "cell_type": "code",
   "execution_count": 13,
   "metadata": {
    "pycharm": {
     "name": "#%%\n"
    }
   },
   "outputs": [
    {
     "data": {
      "text/plain": [
       "id          object\n",
       "title       object\n",
       "revenue      int64\n",
       "budget       int64\n",
       "writer      object\n",
       "director    object\n",
       "genres      object\n",
       "year        object\n",
       "date        object\n",
       "keywords    object\n",
       "dtype: object"
      ]
     },
     "execution_count": 13,
     "metadata": {},
     "output_type": "execute_result"
    }
   ],
   "source": [
    "df.dtypes"
   ]
  },
  {
   "cell_type": "markdown",
   "metadata": {},
   "source": [
    "#### Filter out films with revenue under $1M"
   ]
  },
  {
   "cell_type": "code",
   "execution_count": 14,
   "metadata": {
    "pycharm": {
     "name": "#%%\n"
    }
   },
   "outputs": [],
   "source": [
    "df1 = df[df.revenue.gt(1000000)]"
   ]
  },
  {
   "cell_type": "markdown",
   "metadata": {},
   "source": [
    "#### Explode 'genres' column so we can compare single genres"
   ]
  },
  {
   "cell_type": "code",
   "execution_count": 15,
   "metadata": {
    "pycharm": {
     "name": "#%%\n"
    }
   },
   "outputs": [
    {
     "data": {
      "text/plain": [
       "(5132, 10)"
      ]
     },
     "execution_count": 15,
     "metadata": {},
     "output_type": "execute_result"
    }
   ],
   "source": [
    "genre_df = df1.explode('genres')\n",
    "genre_df.shape"
   ]
  },
  {
   "cell_type": "code",
   "execution_count": 16,
   "metadata": {
    "pycharm": {
     "name": "#%%\n"
    }
   },
   "outputs": [
    {
     "data": {
      "text/html": [
       "<div>\n",
       "<style scoped>\n",
       "    .dataframe tbody tr th:only-of-type {\n",
       "        vertical-align: middle;\n",
       "    }\n",
       "\n",
       "    .dataframe tbody tr th {\n",
       "        vertical-align: top;\n",
       "    }\n",
       "\n",
       "    .dataframe thead th {\n",
       "        text-align: right;\n",
       "    }\n",
       "</style>\n",
       "<table border=\"1\" class=\"dataframe\">\n",
       "  <thead>\n",
       "    <tr style=\"text-align: right;\">\n",
       "      <th></th>\n",
       "      <th></th>\n",
       "      <th>revenue</th>\n",
       "      <th>budget</th>\n",
       "    </tr>\n",
       "    <tr>\n",
       "      <th>year</th>\n",
       "      <th>genres</th>\n",
       "      <th></th>\n",
       "      <th></th>\n",
       "    </tr>\n",
       "  </thead>\n",
       "  <tbody>\n",
       "    <tr>\n",
       "      <td rowspan=\"17\" valign=\"top\">2019</td>\n",
       "      <td>Science Fiction</td>\n",
       "      <td>4.924485e+08</td>\n",
       "      <td>1.206176e+08</td>\n",
       "    </tr>\n",
       "    <tr>\n",
       "      <td>Adventure</td>\n",
       "      <td>4.526650e+08</td>\n",
       "      <td>1.115556e+08</td>\n",
       "    </tr>\n",
       "    <tr>\n",
       "      <td>Family</td>\n",
       "      <td>2.808875e+08</td>\n",
       "      <td>7.131111e+07</td>\n",
       "    </tr>\n",
       "    <tr>\n",
       "      <td>Animation</td>\n",
       "      <td>2.312184e+08</td>\n",
       "      <td>4.958803e+07</td>\n",
       "    </tr>\n",
       "    <tr>\n",
       "      <td>Action</td>\n",
       "      <td>2.176892e+08</td>\n",
       "      <td>6.214243e+07</td>\n",
       "    </tr>\n",
       "    <tr>\n",
       "      <td>Fantasy</td>\n",
       "      <td>2.167856e+08</td>\n",
       "      <td>6.039139e+07</td>\n",
       "    </tr>\n",
       "    <tr>\n",
       "      <td>Mystery</td>\n",
       "      <td>1.133265e+08</td>\n",
       "      <td>1.479130e+07</td>\n",
       "    </tr>\n",
       "    <tr>\n",
       "      <td>Comedy</td>\n",
       "      <td>1.111112e+08</td>\n",
       "      <td>2.912083e+07</td>\n",
       "    </tr>\n",
       "    <tr>\n",
       "      <td>Thriller</td>\n",
       "      <td>1.109072e+08</td>\n",
       "      <td>2.269645e+07</td>\n",
       "    </tr>\n",
       "    <tr>\n",
       "      <td>Crime</td>\n",
       "      <td>1.047132e+08</td>\n",
       "      <td>2.606880e+07</td>\n",
       "    </tr>\n",
       "    <tr>\n",
       "      <td>Horror</td>\n",
       "      <td>8.695294e+07</td>\n",
       "      <td>1.602273e+07</td>\n",
       "    </tr>\n",
       "    <tr>\n",
       "      <td>Romance</td>\n",
       "      <td>7.874462e+07</td>\n",
       "      <td>1.698843e+07</td>\n",
       "    </tr>\n",
       "    <tr>\n",
       "      <td>Drama</td>\n",
       "      <td>6.965347e+07</td>\n",
       "      <td>1.901188e+07</td>\n",
       "    </tr>\n",
       "    <tr>\n",
       "      <td>War</td>\n",
       "      <td>6.822902e+07</td>\n",
       "      <td>3.057450e+07</td>\n",
       "    </tr>\n",
       "    <tr>\n",
       "      <td>Music</td>\n",
       "      <td>6.388018e+07</td>\n",
       "      <td>2.335657e+07</td>\n",
       "    </tr>\n",
       "    <tr>\n",
       "      <td>History</td>\n",
       "      <td>6.333776e+07</td>\n",
       "      <td>3.659754e+07</td>\n",
       "    </tr>\n",
       "    <tr>\n",
       "      <td>Documentary</td>\n",
       "      <td>3.775405e+06</td>\n",
       "      <td>0.000000e+00</td>\n",
       "    </tr>\n",
       "    <tr>\n",
       "      <td rowspan=\"3\" valign=\"top\">2018</td>\n",
       "      <td>Adventure</td>\n",
       "      <td>3.738242e+08</td>\n",
       "      <td>9.336125e+07</td>\n",
       "    </tr>\n",
       "    <tr>\n",
       "      <td>Science Fiction</td>\n",
       "      <td>3.617935e+08</td>\n",
       "      <td>8.530000e+07</td>\n",
       "    </tr>\n",
       "    <tr>\n",
       "      <td>Action</td>\n",
       "      <td>3.065113e+08</td>\n",
       "      <td>6.247300e+07</td>\n",
       "    </tr>\n",
       "  </tbody>\n",
       "</table>\n",
       "</div>"
      ],
      "text/plain": [
       "                           revenue        budget\n",
       "year genres                                     \n",
       "2019 Science Fiction  4.924485e+08  1.206176e+08\n",
       "     Adventure        4.526650e+08  1.115556e+08\n",
       "     Family           2.808875e+08  7.131111e+07\n",
       "     Animation        2.312184e+08  4.958803e+07\n",
       "     Action           2.176892e+08  6.214243e+07\n",
       "     Fantasy          2.167856e+08  6.039139e+07\n",
       "     Mystery          1.133265e+08  1.479130e+07\n",
       "     Comedy           1.111112e+08  2.912083e+07\n",
       "     Thriller         1.109072e+08  2.269645e+07\n",
       "     Crime            1.047132e+08  2.606880e+07\n",
       "     Horror           8.695294e+07  1.602273e+07\n",
       "     Romance          7.874462e+07  1.698843e+07\n",
       "     Drama            6.965347e+07  1.901188e+07\n",
       "     War              6.822902e+07  3.057450e+07\n",
       "     Music            6.388018e+07  2.335657e+07\n",
       "     History          6.333776e+07  3.659754e+07\n",
       "     Documentary      3.775405e+06  0.000000e+00\n",
       "2018 Adventure        3.738242e+08  9.336125e+07\n",
       "     Science Fiction  3.617935e+08  8.530000e+07\n",
       "     Action           3.065113e+08  6.247300e+07"
      ]
     },
     "execution_count": 16,
     "metadata": {},
     "output_type": "execute_result"
    }
   ],
   "source": [
    "genre_df.groupby(['year', 'genres']).mean().sort_values(['year', 'revenue'], ascending=False).head(20)"
   ]
  },
  {
   "cell_type": "markdown",
   "metadata": {},
   "source": [
    "#### Create lists of genres for our plot"
   ]
  },
  {
   "cell_type": "code",
   "execution_count": 17,
   "metadata": {
    "pycharm": {
     "name": "#%%\n"
    }
   },
   "outputs": [],
   "source": [
    "gen1 = ['Science Fiction', 'Adventure', 'Family']\n",
    "gen2 = ['Animation', 'Action', 'Fantasy']\n",
    "gen3 = ['Mystery', 'Thriller', 'Comedy']\n",
    "gen4 = ['Crime', 'Horror', 'Romance']\n",
    "gen5 = ['Drama', 'War', 'History']\n",
    "gen6 = ['Music', 'Documentary', 'Western']"
   ]
  },
  {
   "cell_type": "code",
   "execution_count": 18,
   "metadata": {
    "pycharm": {
     "name": "#%%\n"
    }
   },
   "outputs": [],
   "source": [
    "gen1_df = genre_df[genre_df.genres.isin(gen1)]\n",
    "gen2_df = genre_df[genre_df.genres.isin(gen2)]\n",
    "gen3_df = genre_df[genre_df.genres.isin(gen3)]\n",
    "gen4_df = genre_df[genre_df.genres.isin(gen4)]\n",
    "gen5_df = genre_df[genre_df.genres.isin(gen5)]\n",
    "gen6_df = genre_df[genre_df.genres.isin(gen6)]"
   ]
  },
  {
   "cell_type": "markdown",
   "metadata": {},
   "source": [
    "#### Plot average revenue by genre as compared to average revenue overall"
   ]
  },
  {
   "cell_type": "code",
   "execution_count": 19,
   "metadata": {
    "pycharm": {
     "name": "#%%\n"
    }
   },
   "outputs": [
    {
     "data": {
      "text/plain": [
       "year\n",
       "2010    1.322621e+08\n",
       "2011    1.455204e+08\n",
       "2012    1.557377e+08\n",
       "2013    1.577144e+08\n",
       "2014    1.772566e+08\n",
       "2015    1.680252e+08\n",
       "2016    1.898995e+08\n",
       "2017    1.877622e+08\n",
       "2018    1.713605e+08\n",
       "2019    1.669605e+08\n",
       "Name: revenue, dtype: float64"
      ]
     },
     "execution_count": 19,
     "metadata": {},
     "output_type": "execute_result"
    }
   ],
   "source": [
    "genre_df.groupby('year').revenue.mean()"
   ]
  },
  {
   "cell_type": "code",
   "execution_count": 20,
   "metadata": {
    "pycharm": {
     "name": "#%%\n"
    }
   },
   "outputs": [
    {
     "data": {
      "text/html": [
       "<div>\n",
       "<style scoped>\n",
       "    .dataframe tbody tr th:only-of-type {\n",
       "        vertical-align: middle;\n",
       "    }\n",
       "\n",
       "    .dataframe tbody tr th {\n",
       "        vertical-align: top;\n",
       "    }\n",
       "\n",
       "    .dataframe thead th {\n",
       "        text-align: right;\n",
       "    }\n",
       "</style>\n",
       "<table border=\"1\" class=\"dataframe\">\n",
       "  <thead>\n",
       "    <tr style=\"text-align: right;\">\n",
       "      <th></th>\n",
       "      <th>id</th>\n",
       "      <th>title</th>\n",
       "      <th>revenue</th>\n",
       "      <th>budget</th>\n",
       "      <th>writer</th>\n",
       "      <th>director</th>\n",
       "      <th>genres</th>\n",
       "      <th>year</th>\n",
       "      <th>date</th>\n",
       "      <th>keywords</th>\n",
       "    </tr>\n",
       "  </thead>\n",
       "  <tbody>\n",
       "  </tbody>\n",
       "</table>\n",
       "</div>"
      ],
      "text/plain": [
       "Empty DataFrame\n",
       "Columns: [id, title, revenue, budget, writer, director, genres, year, date, keywords]\n",
       "Index: []"
      ]
     },
     "execution_count": 20,
     "metadata": {},
     "output_type": "execute_result"
    }
   ],
   "source": [
    "genre_df[genre_df['year']=='']"
   ]
  },
  {
   "cell_type": "code",
   "execution_count": 21,
   "metadata": {
    "pycharm": {
     "name": "#%%\n"
    }
   },
   "outputs": [],
   "source": [
    "# genre_df.drop(index=404, inplace=True)"
   ]
  },
  {
   "cell_type": "code",
   "execution_count": 22,
   "metadata": {
    "pycharm": {
     "name": "#%%\n"
    }
   },
   "outputs": [
    {
     "data": {
      "text/plain": [
       "Text(0, 0.5, 'Revenue (100M)')"
      ]
     },
     "execution_count": 22,
     "metadata": {},
     "output_type": "execute_result"
    },
    {
     "data": {
      "image/png": "[encoded data removed]",
      "text/plain": [
       "<Figure size 1080x720 with 6 Axes>"
      ]
     },
     "metadata": {
      "needs_background": "light"
     },
     "output_type": "display_data"
    }
   ],
   "source": [
    "import seaborn as sns\n",
    "fig, (ax1,ax2,ax3) = plt.subplots(3, 2, figsize=(15,10), sharex=True, sharey=True)\n",
    "\n",
    "sns.lineplot(x='year', y='revenue', data=gen1_df, hue='genres', ax=ax1[0])\n",
    "sns.lineplot(data=genre_df.groupby('year').revenue.mean(), ax=ax1[0], color='black')\n",
    "ax1[0].set_title('Family, Adventure, Sci-Fi')\n",
    "\n",
    "sns.lineplot(x='year', y='revenue', data=gen2_df, hue='genres', ax=ax1[1])\n",
    "sns.lineplot(data=genre_df.groupby('year').revenue.mean(), ax=ax1[1], color='black')\n",
    "ax1[1].set_title('Animation, Fantasy, Action')\n",
    "\n",
    "sns.lineplot(x='year', y='revenue', data=gen3_df, hue='genres', ax=ax2[0])\n",
    "sns.lineplot(data=genre_df.groupby('year').revenue.mean(), ax=ax2[0], color='black')\n",
    "ax2[0].set_title('Comedy, Thriller, Mystery')\n",
    "\n",
    "sns.lineplot(x='year', y='revenue', data=gen4_df, hue='genres', ax=ax2[1])\n",
    "sns.lineplot(data=genre_df.groupby('year').revenue.mean(), ax=ax2[1], color='black')\n",
    "ax2[1].set_title('Romance, Horror, Crime')\n",
    "\n",
    "sns.lineplot(x='year', y='revenue', data=gen5_df, hue='genres', ax=ax3[0])\n",
    "sns.lineplot(data=genre_df.groupby('year').revenue.mean(), ax=ax3[0], color='black')\n",
    "ax3[0].set_title('Drama, History, War')\n",
    "\n",
    "sns.lineplot(x='year', y='revenue', data=gen6_df, hue='genres', ax=ax3[1])\n",
    "sns.lineplot(data=genre_df.groupby('year').revenue.mean(), ax=ax3[1], color='black')\n",
    "ax3[1].set_title('Western, Documentary, Music')\n",
    "\n",
    "fig.suptitle(\"Average Revenue by Genre Compared to Overall Average\")\n",
    "ax3[0].set_xlabel(\"Year\")\n",
    "ax3[1].set_xlabel(\"Year\")\n",
    "ax1[0].set_ylabel(\"Revenue (100M)\")\n",
    "ax2[0].set_ylabel(\"Revenue (100M)\")\n",
    "ax3[0].set_ylabel(\"Revenue (100M)\")"
   ]
  },
  {
   "cell_type": "code",
   "execution_count": 23,
   "metadata": {},
   "outputs": [],
   "source": [
    "genre_groups = genre_df.groupby('genres').mean().sort_values('revenue', ascending = False)\n",
    "genre_groups = genre_groups[:6]"
   ]
  },
  {
   "cell_type": "code",
   "execution_count": 24,
   "metadata": {},
   "outputs": [
    {
     "data": {
      "text/plain": [
       "165383498.01305532"
      ]
     },
     "execution_count": 24,
     "metadata": {},
     "output_type": "execute_result"
    }
   ],
   "source": [
    "genre_df.revenue.mean()"
   ]
  },
  {
   "cell_type": "code",
   "execution_count": 25,
   "metadata": {},
   "outputs": [
    {
     "data": {
      "image/png": "[encoded data removed]",
      "text/plain": [
       "<Figure size 864x576 with 1 Axes>"
      ]
     },
     "metadata": {
      "needs_background": "light"
     },
     "output_type": "display_data"
    }
   ],
   "source": [
    "fig, ax = plt.subplots(figsize=(12,8))\n",
    "ax = sns.barplot(data=genre_groups[:6], x=genre_groups.index, y = 'revenue')\n",
    "plt.axhline(genre_df.revenue.mean(), color='black', dashes=(1,2))\n",
    "plt.text(.5, .43, 'Overall Avg. for All Genres', fontsize=14, va='center', ha='center', transform=ax.transAxes)\n",
    "plt.xlabel('Genres')\n",
    "plt.ylabel('Revenue ($100M)')\n",
    "plt.title('Top Genres Average Revenue')\n",
    "plt.savefig('overall average')"
   ]
  },
  {
   "cell_type": "markdown",
   "metadata": {},
   "source": [
    "##### Here we can see that Family, Adventure, Sci-Fi, Animation, Fantasy, and Action all regularly perform better than average. Westerns, Documentaries, Music Movies, and War Movies are hit-or-miss from year-to-year, and the remaining genres regulary perform below the average."
   ]
  },
  {
   "cell_type": "markdown",
   "metadata": {},
   "source": [
    "#### Gathering information specific to 2019"
   ]
  },
  {
   "cell_type": "code",
   "execution_count": 26,
   "metadata": {
    "pycharm": {
     "name": "#%%\n"
    }
   },
   "outputs": [
    {
     "data": {
      "text/html": [
       "<div>\n",
       "<style scoped>\n",
       "    .dataframe tbody tr th:only-of-type {\n",
       "        vertical-align: middle;\n",
       "    }\n",
       "\n",
       "    .dataframe tbody tr th {\n",
       "        vertical-align: top;\n",
       "    }\n",
       "\n",
       "    .dataframe thead th {\n",
       "        text-align: right;\n",
       "    }\n",
       "</style>\n",
       "<table border=\"1\" class=\"dataframe\">\n",
       "  <thead>\n",
       "    <tr style=\"text-align: right;\">\n",
       "      <th></th>\n",
       "      <th>id</th>\n",
       "      <th>title</th>\n",
       "      <th>revenue</th>\n",
       "      <th>budget</th>\n",
       "      <th>writer</th>\n",
       "      <th>director</th>\n",
       "      <th>genres</th>\n",
       "      <th>year</th>\n",
       "      <th>date</th>\n",
       "      <th>keywords</th>\n",
       "    </tr>\n",
       "  </thead>\n",
       "  <tbody>\n",
       "    <tr>\n",
       "      <td>1795</td>\n",
       "      <td>299534</td>\n",
       "      <td>Avengers: Endgame</td>\n",
       "      <td>2797800564</td>\n",
       "      <td>356000000</td>\n",
       "      <td>[Christopher Markus, Stephen McFeely]</td>\n",
       "      <td>[Anthony Russo, Joe Russo]</td>\n",
       "      <td>Adventure</td>\n",
       "      <td>2019</td>\n",
       "      <td>04-24</td>\n",
       "      <td>[space travel, time travel, time machine, sequ...</td>\n",
       "    </tr>\n",
       "    <tr>\n",
       "      <td>1795</td>\n",
       "      <td>299534</td>\n",
       "      <td>Avengers: Endgame</td>\n",
       "      <td>2797800564</td>\n",
       "      <td>356000000</td>\n",
       "      <td>[Christopher Markus, Stephen McFeely]</td>\n",
       "      <td>[Anthony Russo, Joe Russo]</td>\n",
       "      <td>Action</td>\n",
       "      <td>2019</td>\n",
       "      <td>04-24</td>\n",
       "      <td>[space travel, time travel, time machine, sequ...</td>\n",
       "    </tr>\n",
       "    <tr>\n",
       "      <td>1795</td>\n",
       "      <td>299534</td>\n",
       "      <td>Avengers: Endgame</td>\n",
       "      <td>2797800564</td>\n",
       "      <td>356000000</td>\n",
       "      <td>[Christopher Markus, Stephen McFeely]</td>\n",
       "      <td>[Anthony Russo, Joe Russo]</td>\n",
       "      <td>Science Fiction</td>\n",
       "      <td>2019</td>\n",
       "      <td>04-24</td>\n",
       "      <td>[space travel, time travel, time machine, sequ...</td>\n",
       "    </tr>\n",
       "    <tr>\n",
       "      <td>1796</td>\n",
       "      <td>420818</td>\n",
       "      <td>The Lion King</td>\n",
       "      <td>1656943394</td>\n",
       "      <td>260000000</td>\n",
       "      <td>[Jeff Nathanson]</td>\n",
       "      <td>[Jon Favreau]</td>\n",
       "      <td>Adventure</td>\n",
       "      <td>2019</td>\n",
       "      <td>07-12</td>\n",
       "      <td>[africa, lion, prince, musical, uncle, remake,...</td>\n",
       "    </tr>\n",
       "    <tr>\n",
       "      <td>1796</td>\n",
       "      <td>420818</td>\n",
       "      <td>The Lion King</td>\n",
       "      <td>1656943394</td>\n",
       "      <td>260000000</td>\n",
       "      <td>[Jeff Nathanson]</td>\n",
       "      <td>[Jon Favreau]</td>\n",
       "      <td>Family</td>\n",
       "      <td>2019</td>\n",
       "      <td>07-12</td>\n",
       "      <td>[africa, lion, prince, musical, uncle, remake,...</td>\n",
       "    </tr>\n",
       "    <tr>\n",
       "      <td>...</td>\n",
       "      <td>...</td>\n",
       "      <td>...</td>\n",
       "      <td>...</td>\n",
       "      <td>...</td>\n",
       "      <td>...</td>\n",
       "      <td>...</td>\n",
       "      <td>...</td>\n",
       "      <td>...</td>\n",
       "      <td>...</td>\n",
       "      <td>...</td>\n",
       "    </tr>\n",
       "    <tr>\n",
       "      <td>1993</td>\n",
       "      <td>547590</td>\n",
       "      <td>El Chicano</td>\n",
       "      <td>1370000</td>\n",
       "      <td>0</td>\n",
       "      <td>[Joe Carnahan, Ben Hernandez Bray]</td>\n",
       "      <td>[Ben Hernandez Bray]</td>\n",
       "      <td>Crime</td>\n",
       "      <td>2019</td>\n",
       "      <td>05-03</td>\n",
       "      <td>[]</td>\n",
       "    </tr>\n",
       "    <tr>\n",
       "      <td>1994</td>\n",
       "      <td>608124</td>\n",
       "      <td>Chhalawa</td>\n",
       "      <td>1300000</td>\n",
       "      <td>0</td>\n",
       "      <td>[Wajahat Rauf]</td>\n",
       "      <td>[Wajahat Rauf]</td>\n",
       "      <td>Comedy</td>\n",
       "      <td>2019</td>\n",
       "      <td>06-05</td>\n",
       "      <td>[relationship]</td>\n",
       "    </tr>\n",
       "    <tr>\n",
       "      <td>1994</td>\n",
       "      <td>608124</td>\n",
       "      <td>Chhalawa</td>\n",
       "      <td>1300000</td>\n",
       "      <td>0</td>\n",
       "      <td>[Wajahat Rauf]</td>\n",
       "      <td>[Wajahat Rauf]</td>\n",
       "      <td>Drama</td>\n",
       "      <td>2019</td>\n",
       "      <td>06-05</td>\n",
       "      <td>[relationship]</td>\n",
       "    </tr>\n",
       "    <tr>\n",
       "      <td>1994</td>\n",
       "      <td>608124</td>\n",
       "      <td>Chhalawa</td>\n",
       "      <td>1300000</td>\n",
       "      <td>0</td>\n",
       "      <td>[Wajahat Rauf]</td>\n",
       "      <td>[Wajahat Rauf]</td>\n",
       "      <td>Family</td>\n",
       "      <td>2019</td>\n",
       "      <td>06-05</td>\n",
       "      <td>[relationship]</td>\n",
       "    </tr>\n",
       "    <tr>\n",
       "      <td>1994</td>\n",
       "      <td>608124</td>\n",
       "      <td>Chhalawa</td>\n",
       "      <td>1300000</td>\n",
       "      <td>0</td>\n",
       "      <td>[Wajahat Rauf]</td>\n",
       "      <td>[Wajahat Rauf]</td>\n",
       "      <td>Romance</td>\n",
       "      <td>2019</td>\n",
       "      <td>06-05</td>\n",
       "      <td>[relationship]</td>\n",
       "    </tr>\n",
       "  </tbody>\n",
       "</table>\n",
       "<p>506 rows × 10 columns</p>\n",
       "</div>"
      ],
      "text/plain": [
       "          id              title     revenue     budget  \\\n",
       "1795  299534  Avengers: Endgame  2797800564  356000000   \n",
       "1795  299534  Avengers: Endgame  2797800564  356000000   \n",
       "1795  299534  Avengers: Endgame  2797800564  356000000   \n",
       "1796  420818      The Lion King  1656943394  260000000   \n",
       "1796  420818      The Lion King  1656943394  260000000   \n",
       "...      ...                ...         ...        ...   \n",
       "1993  547590         El Chicano     1370000          0   \n",
       "1994  608124           Chhalawa     1300000          0   \n",
       "1994  608124           Chhalawa     1300000          0   \n",
       "1994  608124           Chhalawa     1300000          0   \n",
       "1994  608124           Chhalawa     1300000          0   \n",
       "\n",
       "                                     writer                    director  \\\n",
       "1795  [Christopher Markus, Stephen McFeely]  [Anthony Russo, Joe Russo]   \n",
       "1795  [Christopher Markus, Stephen McFeely]  [Anthony Russo, Joe Russo]   \n",
       "1795  [Christopher Markus, Stephen McFeely]  [Anthony Russo, Joe Russo]   \n",
       "1796                       [Jeff Nathanson]               [Jon Favreau]   \n",
       "1796                       [Jeff Nathanson]               [Jon Favreau]   \n",
       "...                                     ...                         ...   \n",
       "1993     [Joe Carnahan, Ben Hernandez Bray]        [Ben Hernandez Bray]   \n",
       "1994                         [Wajahat Rauf]              [Wajahat Rauf]   \n",
       "1994                         [Wajahat Rauf]              [Wajahat Rauf]   \n",
       "1994                         [Wajahat Rauf]              [Wajahat Rauf]   \n",
       "1994                         [Wajahat Rauf]              [Wajahat Rauf]   \n",
       "\n",
       "               genres  year   date  \\\n",
       "1795        Adventure  2019  04-24   \n",
       "1795           Action  2019  04-24   \n",
       "1795  Science Fiction  2019  04-24   \n",
       "1796        Adventure  2019  07-12   \n",
       "1796           Family  2019  07-12   \n",
       "...               ...   ...    ...   \n",
       "1993            Crime  2019  05-03   \n",
       "1994           Comedy  2019  06-05   \n",
       "1994            Drama  2019  06-05   \n",
       "1994           Family  2019  06-05   \n",
       "1994          Romance  2019  06-05   \n",
       "\n",
       "                                               keywords  \n",
       "1795  [space travel, time travel, time machine, sequ...  \n",
       "1795  [space travel, time travel, time machine, sequ...  \n",
       "1795  [space travel, time travel, time machine, sequ...  \n",
       "1796  [africa, lion, prince, musical, uncle, remake,...  \n",
       "1796  [africa, lion, prince, musical, uncle, remake,...  \n",
       "...                                                 ...  \n",
       "1993                                                 []  \n",
       "1994                                     [relationship]  \n",
       "1994                                     [relationship]  \n",
       "1994                                     [relationship]  \n",
       "1994                                     [relationship]  \n",
       "\n",
       "[506 rows x 10 columns]"
      ]
     },
     "execution_count": 26,
     "metadata": {},
     "output_type": "execute_result"
    }
   ],
   "source": [
    "year_19_df = genre_df[genre_df['year']=='2019'].sort_values('revenue', ascending=False)\n",
    "year_19_df"
   ]
  },
  {
   "cell_type": "code",
   "execution_count": 27,
   "metadata": {
    "pycharm": {
     "name": "#%%\n"
    }
   },
   "outputs": [
    {
     "data": {
      "text/plain": [
       "<matplotlib.axes._subplots.AxesSubplot at 0x251a113ef60>"
      ]
     },
     "execution_count": 27,
     "metadata": {},
     "output_type": "execute_result"
    },
    {
     "data": {
      "image/png": "[encoded data removed]",
      "text/plain": [
       "<Figure size 432x288 with 1 Axes>"
      ]
     },
     "metadata": {
      "needs_background": "light"
     },
     "output_type": "display_data"
    }
   ],
   "source": [
    "sns.barplot(orient='h', data=year_19_df, x='revenue', y='genres')"
   ]
  },
  {
   "cell_type": "markdown",
   "metadata": {},
   "source": [
    "#### Gathering information specific to 2020"
   ]
  },
  {
   "cell_type": "code",
   "execution_count": 29,
   "metadata": {
    "pycharm": {
     "name": "#%%\n"
    }
   },
   "outputs": [
    {
     "name": "stdout",
     "output_type": "stream",
     "text": [
      "1: The Last Of Us Part II\n",
      "2: Bad Boys for Life\n",
      "3: Sonic the Hedgehog\n",
      "4: Dolittle\n",
      "5: Birds of Prey (and the Fantabulous Emancipation of One Harley Quinn)\n",
      "6: The Invisible Man\n",
      "7: The Call of the Wild\n",
      "8: Onward\n",
      "9: Scarlet Tulips\n",
      "10: Fantasy Island\n",
      "11: The Grudge\n",
      "12: Underwater\n",
      "13: Invasion\n",
      "14: Ala Vaikunthapurramuloo\n",
      "15: Bloodshot\n",
      "16: Like a Boss\n",
      "17: Emma.\n",
      "18: Capone\n",
      "19: Brahms: The Boy II\n",
      "20: The Turning\n",
      "21: The Way Back\n",
      "22: Street Dancer 3D\n",
      "23: Malang\n",
      "24: UFC 246: McGregor vs. Cowboy\n",
      "25: Impractical Jokers: The Movie\n",
      "26: Nightlife\n",
      "27: 365 Days\n",
      "28: Downhill\n",
      "29: The Hunt\n",
      "30: My Spy\n",
      "31: Varane Avashyamund\n",
      "32: Lassie Come Home\n",
      "33: Trolls World Tour\n",
      "34: The Perfect Date\n",
      "35: Block Z\n",
      "36: The Elfkins - Baking a Difference\n",
      "37: Sudakshinar Saree\n",
      "38: I Love You, Stupid\n",
      "39: ALL COPS AIN'T BAD\n",
      "40: Trump 2020 Tulsa Campaign Rally\n",
      "41: Funhouse\n",
      "42: Mortal\n",
      "43: Maceracı Yüzgeçler: Büyük Gösteri\n",
      "44: The Mafia: Payback\n",
      "45: Enter the Fat Dragon\n",
      "46: Unsubscribe\n",
      "47: Permette? Alberto Sordi\n",
      "48: Boundary\n",
      "49: Tokoloshe: An African Curse\n",
      "50: The Passenger\n",
      "51: Kabaddi Kabaddi Kabaddi\n",
      "52: Resistance\n",
      "53: Sí, Mi Amor\n",
      "54: Moondance\n",
      "55: Detective Dee : Deep Sea Dragon Palace\n",
      "56: Batman: Most Wanted\n",
      "57: Mothman\n",
      "58: Wit's End\n",
      "59: Involuntary Solitude\n",
      "60: Imitation\n",
      "61: One Day\n",
      "62: Glop\n",
      "63: Carpe Diem\n",
      "64: Live Periandroy me Stefo\n",
      "65: The Everyday\n",
      "66: El Filibusterismo\n",
      "67: Four Of A Kind\n",
      "68: Stalking Ian:The New Cut\n",
      "69: La mort d'Emi o (Un voyage de découverte de soi)\n",
      "70: Wander\n",
      "71: Bottle\n",
      "72: Duck\n",
      "73: The Year of The Day\n",
      "74: bart sra\n",
      "75: Rhythm, Office, Sub\n",
      "76: God Mode.exe\n",
      "77: Passage of Time\n",
      "78: RGC\n",
      "79: Bhotbhoti\n",
      "80: Bini Sutoy\n",
      "81: Queering the South Through Drag\n",
      "82: Dear Hubert Creekmore\n",
      "83: Legal Leslie\n",
      "84: Kishmish\n",
      "85: Commando\n",
      "86: Hobu Chandra Raja Gobu Chandra Mantri\n",
      "87: The Friends\n",
      "88: Observe and Reverse\n",
      "89: Hot Blooded Detective\n",
      "90: Jete Nahi Dibo\n",
      "91: Beg for Life\n",
      "92: Sannyasi Deshonayok\n",
      "93: Love Story\n",
      "94: Ballads for Chandraboti\n",
      "95: Samapti\n",
      "96: Acchianata\n",
      "97: Descendants of Dragon Master\n",
      "98: La´NamQom\n",
      "99: The Lost Boys of Bucks County\n",
      "100: Magic\n",
      "101: This Film Should Not Exist\n",
      "102: Nr. 10\n",
      "103: Dracula SIr\n",
      "104: Eclipse\n",
      "105: Coffee Run\n",
      "106: Flick\n",
      "107: It’s Just The Sky Farting\n",
      "108: Ren som sne\n",
      "109: Tonic\n",
      "110: Jane's Summer\n",
      "111: „Hammond Groove“ - hr-Bigband meets Simon Oslender\n",
      "112: Steffen - arven etter Ivers\n",
      "113: VIDEODISC, or The 120 Minutes of Search\n",
      "114: S p a c e l a n d\n",
      "115: La Aguja y el Tambor\n",
      "116: Pak Dogo\n",
      "117: Three Comrades\n",
      "118: The Room Where It Happened: ABC News Exclusive Interview with John Bolton\n",
      "119: Rules\n",
      "120: To See You Again\n",
      "121: La Vie des monuments\n",
      "122: The 8th Day of the Week\n",
      "123: The Nickel Snatcher\n",
      "124: Hellfest 2020 - Quinze années de bruit et de fureur\n",
      "125: Normandie Terre D'abondance\n",
      "126: That's Brucesploitation! Making Fist of Fear, Touch of Death\n",
      "127: 8 Poems of Emigration\n",
      "128: Goma\n",
      "129: Intuition II\n",
      "130: Hungerville: Cómo el peor equipo de la historia conquistó Wembley\n",
      "131: 파이터\n",
      "132: Channel X Cartoon Show\n",
      "133: Tulsa\n",
      "134: SCRATCH!\n",
      "135: Pipe Dream\n",
      "136: a still place\n",
      "137: The Silence Like A Sea\n",
      "138: Un adieu\n",
      "139: UFC Fight Night 172: Overeem vs. Harris\n",
      "140: God You’re Such A Prick\n",
      "141: What Just Happened?\n",
      "142: The ESPYs Awards 2020\n",
      "143: Campo dos Afonsos\n",
      "144: King George VI: The Accidental King\n",
      "145: Birth Canal\n",
      "146: Hermann\n",
      "147: Sintientes\n",
      "148: Happiness is an Allegory, Unhappiness is a Story\n",
      "149: Ancient Sword and Wizardry: Aversion to Fire\n",
      "150: The Woman by the Window\n",
      "151: Romantic Getaway\n",
      "152: Parallax\n",
      "153: Love is Blind The Movie\n",
      "154: Quarantine Cat Film Festival\n",
      "155: 504 Shotgun Jazz\n",
      "156: perspective\n",
      "157: Body and Seoul\n",
      "158: Feat.JULIE\n",
      "159: Can I take you to the bridge beyond the scene\n",
      "160: 意外英雄\n",
      "161: 5 Second Rule\n",
      "162: Lockdown\n",
      "163: You Monster\n",
      "164: The Stream X\n",
      "165: The Silent Forest\n",
      "166: Call me!\n",
      "167: Weird\n",
      "168: Παναγιώτης Κούδας - Πόσο Μόνος Είναι Αυτός ο Μάκης\n",
      "169: Hungry Joe\n",
      "170: The Tent\n",
      "171: Ils salivent\n",
      "172: Dwellers: The Curse of Pastor Stokes\n",
      "173: Δημήτρης Δημόπουλος - Υπερπαραγωγή\n",
      "174: Your Monster\n",
      "175: The Adventures of Whit\n",
      "176: Fête de la musique Tous ensemble pour la musique En public 2020\n",
      "177: Presque Rien, un bestiaire\n",
      "178: Seed\n",
      "179: La Vuelta al Campo\n",
      "180: Buzzard School\n",
      "181: Tutankhamun In Colour\n",
      "182: Orville + Bob\n",
      "183: Kama'aina\n",
      "184: Six Variations on the Same Theme: Sixth Variation\n",
      "185: Six Variations on the Same Theme: Fifth Variation\n",
      "186: Fabiu\n",
      "187: Six Variations on the Same Theme: Fourth Variation\n",
      "188: Six Variations on the Same Theme: Third Variation\n",
      "189: Bill & Robert\n",
      "190: Six Variations on the Same Theme: Second Variation\n",
      "191: Beautiful You\n",
      "192: Six Variations on the Same Theme: First Variation\n",
      "193: Six Variations on the Same Theme\n",
      "194: Crazy Beggar So\n",
      "195: um pequeno objecto entre Pollet e Ponge, um ovo\n",
      "196: Qu'est-ce qui fait courir Darry Cowl ?\n",
      "197: Clasher l'ennui\n",
      "198: Junior\n",
      "199: 99¢ Dreams\n",
      "200: River of Hope\n"
     ]
    }
   ],
   "source": [
    "year_20_df = pd.DataFrame(columns=columns)\n",
    "count = 1\n",
    "page = 1\n",
    "while page <= 10:\n",
    "    url = 'https://api.themoviedb.org/3/discover/movie?api_key=' + api_key + \\\n",
    "      '&language=en-US&sort_by=revenue.desc&include_adult=false&include_video=false' + \\\n",
    "      '&primary_release_year=2020&page=' + str(page)\n",
    "    year_2020 = requests.get(url)\n",
    "    year_2020 = year_2020.json()\n",
    "    results = year_2020['results']\n",
    "    page += 1\n",
    "    for film in results:\n",
    "        print(str(count) + ': ' + film['title'])\n",
    "        count += 1\n",
    "        try:\n",
    "            film_rev = requests.get('https://api.themoviedb.org/3/movie/' + str(film['id']) +\\\n",
    "                                    '?api_key=' + api_key + '&language=en-US').json()\n",
    "            crew = requests.get('https://api.themoviedb.org/3/movie/' + str(film['id']) +\n",
    "                                    '/credits?api_key=' + api_key).json()  \n",
    "            keywords = requests.get('https://api.themoviedb.org/3/movie/' +str(film['id']) +\\\n",
    "                                    '/keywords?api_key=' + api_key).json()\n",
    "            details = [str(film['id']), film['title'], film_rev['revenue'], film_rev['budget'],\\\n",
    "                           [x['name'] for x in crew['crew'] if x['job']=='Screenplay' or (x['job']=='Writer')],\\\n",
    "                           [x['name'] for x in crew['crew'] if (x['job']=='Director')],\\\n",
    "                           [x['name'] for x in film_rev['genres']], film_rev['release_date'][:4],\\\n",
    "                           film_rev['release_date'][5:], [x['name'] for x in keywords['keywords']]]\n",
    "            year_20_df.loc[len(year_20_df)]=details\n",
    "        except:\n",
    "            continue"
   ]
  },
  {
   "cell_type": "code",
   "execution_count": 30,
   "metadata": {
    "pycharm": {
     "name": "#%%\n"
    }
   },
   "outputs": [
    {
     "data": {
      "text/html": [
       "<div>\n",
       "<style scoped>\n",
       "    .dataframe tbody tr th:only-of-type {\n",
       "        vertical-align: middle;\n",
       "    }\n",
       "\n",
       "    .dataframe tbody tr th {\n",
       "        vertical-align: top;\n",
       "    }\n",
       "\n",
       "    .dataframe thead th {\n",
       "        text-align: right;\n",
       "    }\n",
       "</style>\n",
       "<table border=\"1\" class=\"dataframe\">\n",
       "  <thead>\n",
       "    <tr style=\"text-align: right;\">\n",
       "      <th></th>\n",
       "      <th>id</th>\n",
       "      <th>title</th>\n",
       "      <th>revenue</th>\n",
       "      <th>budget</th>\n",
       "      <th>writer</th>\n",
       "      <th>director</th>\n",
       "      <th>genres</th>\n",
       "      <th>year</th>\n",
       "      <th>date</th>\n",
       "      <th>keywords</th>\n",
       "    </tr>\n",
       "  </thead>\n",
       "  <tbody>\n",
       "    <tr>\n",
       "      <td>0</td>\n",
       "      <td>38700</td>\n",
       "      <td>Bad Boys for Life</td>\n",
       "      <td>419074646</td>\n",
       "      <td>90000000</td>\n",
       "      <td>[Joe Carnahan, Peter Craig, Chris Bremner]</td>\n",
       "      <td>[Adil El Arbi, Bilall Fallah]</td>\n",
       "      <td>[Thriller, Action, Crime]</td>\n",
       "      <td>2020</td>\n",
       "      <td>01-15</td>\n",
       "      <td>[detective, sequel, police officer, police det...</td>\n",
       "    </tr>\n",
       "    <tr>\n",
       "      <td>1</td>\n",
       "      <td>454626</td>\n",
       "      <td>Sonic the Hedgehog</td>\n",
       "      <td>306766470</td>\n",
       "      <td>85000000</td>\n",
       "      <td>[Josh Miller, Patrick Casey]</td>\n",
       "      <td>[Jeff Fowler]</td>\n",
       "      <td>[Action, Science Fiction, Comedy, Family]</td>\n",
       "      <td>2020</td>\n",
       "      <td>02-12</td>\n",
       "      <td>[video game, san francisco, california, friend...</td>\n",
       "    </tr>\n",
       "    <tr>\n",
       "      <td>2</td>\n",
       "      <td>448119</td>\n",
       "      <td>Dolittle</td>\n",
       "      <td>223343452</td>\n",
       "      <td>175000000</td>\n",
       "      <td>[Stephen Gaghan, Chris McKay, Thomas Shepherd]</td>\n",
       "      <td>[Stephen Gaghan]</td>\n",
       "      <td>[Comedy, Fantasy, Adventure, Family]</td>\n",
       "      <td>2020</td>\n",
       "      <td>01-01</td>\n",
       "      <td>[based on novel or book, island, ship, victori...</td>\n",
       "    </tr>\n",
       "    <tr>\n",
       "      <td>3</td>\n",
       "      <td>495764</td>\n",
       "      <td>Birds of Prey (and the Fantabulous Emancipatio...</td>\n",
       "      <td>201858461</td>\n",
       "      <td>75000000</td>\n",
       "      <td>[Christina Hodson]</td>\n",
       "      <td>[Cathy Yan]</td>\n",
       "      <td>[Action, Crime, Comedy]</td>\n",
       "      <td>2020</td>\n",
       "      <td>02-05</td>\n",
       "      <td>[dc comics, based on comic, woman director, dc...</td>\n",
       "    </tr>\n",
       "    <tr>\n",
       "      <td>4</td>\n",
       "      <td>570670</td>\n",
       "      <td>The Invisible Man</td>\n",
       "      <td>123414678</td>\n",
       "      <td>9000000</td>\n",
       "      <td>[Leigh Whannell]</td>\n",
       "      <td>[Leigh Whannell]</td>\n",
       "      <td>[Thriller, Science Fiction, Horror]</td>\n",
       "      <td>2020</td>\n",
       "      <td>02-26</td>\n",
       "      <td>[based on novel or book, architect, pregnancy,...</td>\n",
       "    </tr>\n",
       "    <tr>\n",
       "      <td>...</td>\n",
       "      <td>...</td>\n",
       "      <td>...</td>\n",
       "      <td>...</td>\n",
       "      <td>...</td>\n",
       "      <td>...</td>\n",
       "      <td>...</td>\n",
       "      <td>...</td>\n",
       "      <td>...</td>\n",
       "      <td>...</td>\n",
       "      <td>...</td>\n",
       "    </tr>\n",
       "    <tr>\n",
       "      <td>194</td>\n",
       "      <td>717249</td>\n",
       "      <td>Qu'est-ce qui fait courir Darry Cowl ?</td>\n",
       "      <td>0</td>\n",
       "      <td>0</td>\n",
       "      <td>[]</td>\n",
       "      <td>[Sonia Medina]</td>\n",
       "      <td>[Documentary]</td>\n",
       "      <td>2020</td>\n",
       "      <td>06-13</td>\n",
       "      <td>[]</td>\n",
       "    </tr>\n",
       "    <tr>\n",
       "      <td>195</td>\n",
       "      <td>717238</td>\n",
       "      <td>Clasher l'ennui</td>\n",
       "      <td>0</td>\n",
       "      <td>0</td>\n",
       "      <td>[]</td>\n",
       "      <td>[Yveline Ruaud]</td>\n",
       "      <td>[Documentary]</td>\n",
       "      <td>2020</td>\n",
       "      <td>06-19</td>\n",
       "      <td>[rap music]</td>\n",
       "    </tr>\n",
       "    <tr>\n",
       "      <td>196</td>\n",
       "      <td>717224</td>\n",
       "      <td>Junior</td>\n",
       "      <td>0</td>\n",
       "      <td>0</td>\n",
       "      <td>[]</td>\n",
       "      <td>[]</td>\n",
       "      <td>[Documentary]</td>\n",
       "      <td>2020</td>\n",
       "      <td>06-21</td>\n",
       "      <td>[]</td>\n",
       "    </tr>\n",
       "    <tr>\n",
       "      <td>197</td>\n",
       "      <td>717223</td>\n",
       "      <td>99¢ Dreams</td>\n",
       "      <td>0</td>\n",
       "      <td>0</td>\n",
       "      <td>[Tasnim Boufelfel]</td>\n",
       "      <td>[Tasnim Boufelfel]</td>\n",
       "      <td>[Drama]</td>\n",
       "      <td>2020</td>\n",
       "      <td>06-16</td>\n",
       "      <td>[]</td>\n",
       "    </tr>\n",
       "    <tr>\n",
       "      <td>198</td>\n",
       "      <td>717221</td>\n",
       "      <td>River of Hope</td>\n",
       "      <td>0</td>\n",
       "      <td>0</td>\n",
       "      <td>[Calvin Grimm, Angelica Armstrong, Leslie Brag...</td>\n",
       "      <td>[Calvin Grimm]</td>\n",
       "      <td>[Drama, History]</td>\n",
       "      <td>2020</td>\n",
       "      <td>02-15</td>\n",
       "      <td>[civil war, black people, slavery, college, we...</td>\n",
       "    </tr>\n",
       "  </tbody>\n",
       "</table>\n",
       "<p>199 rows × 10 columns</p>\n",
       "</div>"
      ],
      "text/plain": [
       "         id                                              title    revenue  \\\n",
       "0     38700                                  Bad Boys for Life  419074646   \n",
       "1    454626                                 Sonic the Hedgehog  306766470   \n",
       "2    448119                                           Dolittle  223343452   \n",
       "3    495764  Birds of Prey (and the Fantabulous Emancipatio...  201858461   \n",
       "4    570670                                  The Invisible Man  123414678   \n",
       "..      ...                                                ...        ...   \n",
       "194  717249             Qu'est-ce qui fait courir Darry Cowl ?          0   \n",
       "195  717238                                    Clasher l'ennui          0   \n",
       "196  717224                                             Junior          0   \n",
       "197  717223                                         99¢ Dreams          0   \n",
       "198  717221                                      River of Hope          0   \n",
       "\n",
       "        budget                                             writer  \\\n",
       "0     90000000         [Joe Carnahan, Peter Craig, Chris Bremner]   \n",
       "1     85000000                       [Josh Miller, Patrick Casey]   \n",
       "2    175000000     [Stephen Gaghan, Chris McKay, Thomas Shepherd]   \n",
       "3     75000000                                 [Christina Hodson]   \n",
       "4      9000000                                   [Leigh Whannell]   \n",
       "..         ...                                                ...   \n",
       "194          0                                                 []   \n",
       "195          0                                                 []   \n",
       "196          0                                                 []   \n",
       "197          0                                 [Tasnim Boufelfel]   \n",
       "198          0  [Calvin Grimm, Angelica Armstrong, Leslie Brag...   \n",
       "\n",
       "                          director                                     genres  \\\n",
       "0    [Adil El Arbi, Bilall Fallah]                  [Thriller, Action, Crime]   \n",
       "1                    [Jeff Fowler]  [Action, Science Fiction, Comedy, Family]   \n",
       "2                 [Stephen Gaghan]       [Comedy, Fantasy, Adventure, Family]   \n",
       "3                      [Cathy Yan]                    [Action, Crime, Comedy]   \n",
       "4                 [Leigh Whannell]        [Thriller, Science Fiction, Horror]   \n",
       "..                             ...                                        ...   \n",
       "194                 [Sonia Medina]                              [Documentary]   \n",
       "195                [Yveline Ruaud]                              [Documentary]   \n",
       "196                             []                              [Documentary]   \n",
       "197             [Tasnim Boufelfel]                                    [Drama]   \n",
       "198                 [Calvin Grimm]                           [Drama, History]   \n",
       "\n",
       "     year   date                                           keywords  \n",
       "0    2020  01-15  [detective, sequel, police officer, police det...  \n",
       "1    2020  02-12  [video game, san francisco, california, friend...  \n",
       "2    2020  01-01  [based on novel or book, island, ship, victori...  \n",
       "3    2020  02-05  [dc comics, based on comic, woman director, dc...  \n",
       "4    2020  02-26  [based on novel or book, architect, pregnancy,...  \n",
       "..    ...    ...                                                ...  \n",
       "194  2020  06-13                                                 []  \n",
       "195  2020  06-19                                        [rap music]  \n",
       "196  2020  06-21                                                 []  \n",
       "197  2020  06-16                                                 []  \n",
       "198  2020  02-15  [civil war, black people, slavery, college, we...  \n",
       "\n",
       "[199 rows x 10 columns]"
      ]
     },
     "execution_count": 30,
     "metadata": {},
     "output_type": "execute_result"
    }
   ],
   "source": [
    "year_20_df"
   ]
  },
  {
   "cell_type": "code",
   "execution_count": 31,
   "metadata": {
    "pycharm": {
     "name": "#%%\n"
    }
   },
   "outputs": [],
   "source": [
    "DF = pd.concat([df, year_20_df])"
   ]
  },
  {
   "cell_type": "code",
   "execution_count": 32,
   "metadata": {
    "pycharm": {
     "name": "#%%\n"
    }
   },
   "outputs": [
    {
     "data": {
      "text/html": [
       "<div>\n",
       "<style scoped>\n",
       "    .dataframe tbody tr th:only-of-type {\n",
       "        vertical-align: middle;\n",
       "    }\n",
       "\n",
       "    .dataframe tbody tr th {\n",
       "        vertical-align: top;\n",
       "    }\n",
       "\n",
       "    .dataframe thead th {\n",
       "        text-align: right;\n",
       "    }\n",
       "</style>\n",
       "<table border=\"1\" class=\"dataframe\">\n",
       "  <thead>\n",
       "    <tr style=\"text-align: right;\">\n",
       "      <th></th>\n",
       "      <th>id</th>\n",
       "      <th>title</th>\n",
       "      <th>revenue</th>\n",
       "      <th>budget</th>\n",
       "      <th>writer</th>\n",
       "      <th>director</th>\n",
       "      <th>genres</th>\n",
       "      <th>year</th>\n",
       "      <th>date</th>\n",
       "      <th>keywords</th>\n",
       "    </tr>\n",
       "  </thead>\n",
       "  <tbody>\n",
       "    <tr>\n",
       "      <td>0</td>\n",
       "      <td>10193</td>\n",
       "      <td>Toy Story 3</td>\n",
       "      <td>1066969703</td>\n",
       "      <td>200000000</td>\n",
       "      <td>[Michael Arndt]</td>\n",
       "      <td>[Lee Unkrich]</td>\n",
       "      <td>[Animation, Family, Comedy]</td>\n",
       "      <td>2010</td>\n",
       "      <td>06-16</td>\n",
       "      <td>[hostage, college, toy, escape, daycare, teddy...</td>\n",
       "    </tr>\n",
       "    <tr>\n",
       "      <td>1</td>\n",
       "      <td>12155</td>\n",
       "      <td>Alice in Wonderland</td>\n",
       "      <td>1025467110</td>\n",
       "      <td>200000000</td>\n",
       "      <td>[Linda Woolverton]</td>\n",
       "      <td>[Tim Burton]</td>\n",
       "      <td>[Family, Fantasy, Adventure]</td>\n",
       "      <td>2010</td>\n",
       "      <td>03-03</td>\n",
       "      <td>[based on novel or book, queen, fantasy world,...</td>\n",
       "    </tr>\n",
       "    <tr>\n",
       "      <td>2</td>\n",
       "      <td>12444</td>\n",
       "      <td>Harry Potter and the Deathly Hallows: Part 1</td>\n",
       "      <td>954305868</td>\n",
       "      <td>250000000</td>\n",
       "      <td>[Steve Kloves]</td>\n",
       "      <td>[David Yates]</td>\n",
       "      <td>[Adventure, Fantasy]</td>\n",
       "      <td>2010</td>\n",
       "      <td>10-17</td>\n",
       "      <td>[corruption, isolation, radio, magic, teleport...</td>\n",
       "    </tr>\n",
       "    <tr>\n",
       "      <td>3</td>\n",
       "      <td>27205</td>\n",
       "      <td>Inception</td>\n",
       "      <td>825532764</td>\n",
       "      <td>160000000</td>\n",
       "      <td>[Christopher Nolan]</td>\n",
       "      <td>[Christopher Nolan]</td>\n",
       "      <td>[Action, Science Fiction, Adventure]</td>\n",
       "      <td>2010</td>\n",
       "      <td>07-15</td>\n",
       "      <td>[paris, france, spy, philosophy, hotel, allego...</td>\n",
       "    </tr>\n",
       "    <tr>\n",
       "      <td>4</td>\n",
       "      <td>10192</td>\n",
       "      <td>Shrek Forever After</td>\n",
       "      <td>752600867</td>\n",
       "      <td>165000000</td>\n",
       "      <td>[Josh Klausner, Darren Lemke, Alejandro Bien-W...</td>\n",
       "      <td>[Mike Mitchell]</td>\n",
       "      <td>[Comedy, Adventure, Fantasy, Animation, Family]</td>\n",
       "      <td>2010</td>\n",
       "      <td>05-16</td>\n",
       "      <td>[ogre, 3d]</td>\n",
       "    </tr>\n",
       "    <tr>\n",
       "      <td>...</td>\n",
       "      <td>...</td>\n",
       "      <td>...</td>\n",
       "      <td>...</td>\n",
       "      <td>...</td>\n",
       "      <td>...</td>\n",
       "      <td>...</td>\n",
       "      <td>...</td>\n",
       "      <td>...</td>\n",
       "      <td>...</td>\n",
       "      <td>...</td>\n",
       "    </tr>\n",
       "    <tr>\n",
       "      <td>194</td>\n",
       "      <td>717249</td>\n",
       "      <td>Qu'est-ce qui fait courir Darry Cowl ?</td>\n",
       "      <td>0</td>\n",
       "      <td>0</td>\n",
       "      <td>[]</td>\n",
       "      <td>[Sonia Medina]</td>\n",
       "      <td>[Documentary]</td>\n",
       "      <td>2020</td>\n",
       "      <td>06-13</td>\n",
       "      <td>[]</td>\n",
       "    </tr>\n",
       "    <tr>\n",
       "      <td>195</td>\n",
       "      <td>717238</td>\n",
       "      <td>Clasher l'ennui</td>\n",
       "      <td>0</td>\n",
       "      <td>0</td>\n",
       "      <td>[]</td>\n",
       "      <td>[Yveline Ruaud]</td>\n",
       "      <td>[Documentary]</td>\n",
       "      <td>2020</td>\n",
       "      <td>06-19</td>\n",
       "      <td>[rap music]</td>\n",
       "    </tr>\n",
       "    <tr>\n",
       "      <td>196</td>\n",
       "      <td>717224</td>\n",
       "      <td>Junior</td>\n",
       "      <td>0</td>\n",
       "      <td>0</td>\n",
       "      <td>[]</td>\n",
       "      <td>[]</td>\n",
       "      <td>[Documentary]</td>\n",
       "      <td>2020</td>\n",
       "      <td>06-21</td>\n",
       "      <td>[]</td>\n",
       "    </tr>\n",
       "    <tr>\n",
       "      <td>197</td>\n",
       "      <td>717223</td>\n",
       "      <td>99¢ Dreams</td>\n",
       "      <td>0</td>\n",
       "      <td>0</td>\n",
       "      <td>[Tasnim Boufelfel]</td>\n",
       "      <td>[Tasnim Boufelfel]</td>\n",
       "      <td>[Drama]</td>\n",
       "      <td>2020</td>\n",
       "      <td>06-16</td>\n",
       "      <td>[]</td>\n",
       "    </tr>\n",
       "    <tr>\n",
       "      <td>198</td>\n",
       "      <td>717221</td>\n",
       "      <td>River of Hope</td>\n",
       "      <td>0</td>\n",
       "      <td>0</td>\n",
       "      <td>[Calvin Grimm, Angelica Armstrong, Leslie Brag...</td>\n",
       "      <td>[Calvin Grimm]</td>\n",
       "      <td>[Drama, History]</td>\n",
       "      <td>2020</td>\n",
       "      <td>02-15</td>\n",
       "      <td>[civil war, black people, slavery, college, we...</td>\n",
       "    </tr>\n",
       "  </tbody>\n",
       "</table>\n",
       "<p>2194 rows × 10 columns</p>\n",
       "</div>"
      ],
      "text/plain": [
       "         id                                         title     revenue  \\\n",
       "0     10193                                   Toy Story 3  1066969703   \n",
       "1     12155                           Alice in Wonderland  1025467110   \n",
       "2     12444  Harry Potter and the Deathly Hallows: Part 1   954305868   \n",
       "3     27205                                     Inception   825532764   \n",
       "4     10192                           Shrek Forever After   752600867   \n",
       "..      ...                                           ...         ...   \n",
       "194  717249        Qu'est-ce qui fait courir Darry Cowl ?           0   \n",
       "195  717238                               Clasher l'ennui           0   \n",
       "196  717224                                        Junior           0   \n",
       "197  717223                                    99¢ Dreams           0   \n",
       "198  717221                                 River of Hope           0   \n",
       "\n",
       "        budget                                             writer  \\\n",
       "0    200000000                                    [Michael Arndt]   \n",
       "1    200000000                                 [Linda Woolverton]   \n",
       "2    250000000                                     [Steve Kloves]   \n",
       "3    160000000                                [Christopher Nolan]   \n",
       "4    165000000  [Josh Klausner, Darren Lemke, Alejandro Bien-W...   \n",
       "..         ...                                                ...   \n",
       "194          0                                                 []   \n",
       "195          0                                                 []   \n",
       "196          0                                                 []   \n",
       "197          0                                 [Tasnim Boufelfel]   \n",
       "198          0  [Calvin Grimm, Angelica Armstrong, Leslie Brag...   \n",
       "\n",
       "                director                                           genres  \\\n",
       "0          [Lee Unkrich]                      [Animation, Family, Comedy]   \n",
       "1           [Tim Burton]                     [Family, Fantasy, Adventure]   \n",
       "2          [David Yates]                             [Adventure, Fantasy]   \n",
       "3    [Christopher Nolan]             [Action, Science Fiction, Adventure]   \n",
       "4        [Mike Mitchell]  [Comedy, Adventure, Fantasy, Animation, Family]   \n",
       "..                   ...                                              ...   \n",
       "194       [Sonia Medina]                                    [Documentary]   \n",
       "195      [Yveline Ruaud]                                    [Documentary]   \n",
       "196                   []                                    [Documentary]   \n",
       "197   [Tasnim Boufelfel]                                          [Drama]   \n",
       "198       [Calvin Grimm]                                 [Drama, History]   \n",
       "\n",
       "     year   date                                           keywords  \n",
       "0    2010  06-16  [hostage, college, toy, escape, daycare, teddy...  \n",
       "1    2010  03-03  [based on novel or book, queen, fantasy world,...  \n",
       "2    2010  10-17  [corruption, isolation, radio, magic, teleport...  \n",
       "3    2010  07-15  [paris, france, spy, philosophy, hotel, allego...  \n",
       "4    2010  05-16                                         [ogre, 3d]  \n",
       "..    ...    ...                                                ...  \n",
       "194  2020  06-13                                                 []  \n",
       "195  2020  06-19                                        [rap music]  \n",
       "196  2020  06-21                                                 []  \n",
       "197  2020  06-16                                                 []  \n",
       "198  2020  02-15  [civil war, black people, slavery, college, we...  \n",
       "\n",
       "[2194 rows x 10 columns]"
      ]
     },
     "execution_count": 32,
     "metadata": {},
     "output_type": "execute_result"
    }
   ],
   "source": [
    "DF"
   ]
  },
  {
   "cell_type": "code",
   "execution_count": 33,
   "metadata": {
    "pycharm": {
     "name": "#%%\n"
    }
   },
   "outputs": [],
   "source": [
    "plot_df = DF.loc[(DF.year=='2019')|(DF.year=='2020')]"
   ]
  },
  {
   "cell_type": "code",
   "execution_count": 34,
   "metadata": {
    "pycharm": {
     "name": "#%%\n"
    }
   },
   "outputs": [],
   "source": [
    "plot_df = plot_df.explode('genres')"
   ]
  },
  {
   "cell_type": "code",
   "execution_count": 35,
   "metadata": {},
   "outputs": [],
   "source": [
    "plot_df = plot_df[plot_df.revenue.gt(1000000)]"
   ]
  },
  {
   "cell_type": "code",
   "execution_count": 36,
   "metadata": {
    "pycharm": {
     "name": "#%%\n"
    }
   },
   "outputs": [
    {
     "data": {
      "image/png": "[encoded data removed]",
      "text/plain": [
       "<Figure size 720x576 with 1 Axes>"
      ]
     },
     "metadata": {
      "needs_background": "light"
     },
     "output_type": "display_data"
    }
   ],
   "source": [
    "fig, ax = plt.subplots(figsize=(10,8))\n",
    "sns.barplot(orient='h', data=plot_df, x='revenue', y='genres', hue='year', ci=68)\n",
    "plt.title('Average Revenue by Genre 2019/2020')\n",
    "plt.ylabel('Genres')\n",
    "plt.xlabel('Revenue ($100M)')\n",
    "plt.savefig('2019 2020')"
   ]
  },
  {
   "cell_type": "code",
   "execution_count": 37,
   "metadata": {
    "pycharm": {
     "name": "#%%\n"
    }
   },
   "outputs": [
    {
     "data": {
      "text/plain": [
       "id          object\n",
       "title       object\n",
       "revenue     object\n",
       "budget      object\n",
       "writer      object\n",
       "director    object\n",
       "genres      object\n",
       "year        object\n",
       "date        object\n",
       "keywords    object\n",
       "dtype: object"
      ]
     },
     "execution_count": 37,
     "metadata": {},
     "output_type": "execute_result"
    }
   ],
   "source": [
    "year_20_df.dtypes"
   ]
  },
  {
   "cell_type": "markdown",
   "metadata": {},
   "source": [
    "#### Make 'budget' and 'revenue' numeric again"
   ]
  },
  {
   "cell_type": "code",
   "execution_count": 38,
   "metadata": {
    "pycharm": {
     "name": "#%%\n"
    }
   },
   "outputs": [],
   "source": [
    "year_20_df['revenue'] = pd.to_numeric(year_20_df.revenue)\n",
    "year_20_df['budget'] = pd.to_numeric(year_20_df.budget)"
   ]
  },
  {
   "cell_type": "code",
   "execution_count": 39,
   "metadata": {
    "pycharm": {
     "name": "#%%\n"
    }
   },
   "outputs": [
    {
     "data": {
      "text/plain": [
       "id          object\n",
       "title       object\n",
       "revenue      int64\n",
       "budget       int64\n",
       "writer      object\n",
       "director    object\n",
       "genres      object\n",
       "year        object\n",
       "date        object\n",
       "keywords    object\n",
       "dtype: object"
      ]
     },
     "execution_count": 39,
     "metadata": {},
     "output_type": "execute_result"
    }
   ],
   "source": [
    "year_20_df.dtypes"
   ]
  },
  {
   "cell_type": "markdown",
   "metadata": {},
   "source": [
    "#### Only use films with revenue over 1M to keep data comparable to previous years"
   ]
  },
  {
   "cell_type": "code",
   "execution_count": 40,
   "metadata": {
    "pycharm": {
     "name": "#%%\n"
    }
   },
   "outputs": [],
   "source": [
    "year_20_df = year_20_df[year_20_df.revenue.gt(1000000)]"
   ]
  },
  {
   "cell_type": "code",
   "execution_count": 41,
   "metadata": {
    "pycharm": {
     "name": "#%%\n"
    }
   },
   "outputs": [],
   "source": [
    "year_20_df = year_20_df.explode('genres')"
   ]
  },
  {
   "cell_type": "code",
   "execution_count": 42,
   "metadata": {
    "pycharm": {
     "name": "#%%\n"
    }
   },
   "outputs": [
    {
     "data": {
      "text/html": [
       "<div>\n",
       "<style scoped>\n",
       "    .dataframe tbody tr th:only-of-type {\n",
       "        vertical-align: middle;\n",
       "    }\n",
       "\n",
       "    .dataframe tbody tr th {\n",
       "        vertical-align: top;\n",
       "    }\n",
       "\n",
       "    .dataframe thead th {\n",
       "        text-align: right;\n",
       "    }\n",
       "</style>\n",
       "<table border=\"1\" class=\"dataframe\">\n",
       "  <thead>\n",
       "    <tr style=\"text-align: right;\">\n",
       "      <th></th>\n",
       "      <th>id</th>\n",
       "      <th>title</th>\n",
       "      <th>revenue</th>\n",
       "      <th>budget</th>\n",
       "      <th>writer</th>\n",
       "      <th>director</th>\n",
       "      <th>genres</th>\n",
       "      <th>year</th>\n",
       "      <th>date</th>\n",
       "      <th>keywords</th>\n",
       "    </tr>\n",
       "  </thead>\n",
       "  <tbody>\n",
       "    <tr>\n",
       "      <td>0</td>\n",
       "      <td>38700</td>\n",
       "      <td>Bad Boys for Life</td>\n",
       "      <td>419074646</td>\n",
       "      <td>90000000</td>\n",
       "      <td>[Joe Carnahan, Peter Craig, Chris Bremner]</td>\n",
       "      <td>[Adil El Arbi, Bilall Fallah]</td>\n",
       "      <td>Thriller</td>\n",
       "      <td>2020</td>\n",
       "      <td>01-15</td>\n",
       "      <td>[detective, sequel, police officer, police det...</td>\n",
       "    </tr>\n",
       "    <tr>\n",
       "      <td>0</td>\n",
       "      <td>38700</td>\n",
       "      <td>Bad Boys for Life</td>\n",
       "      <td>419074646</td>\n",
       "      <td>90000000</td>\n",
       "      <td>[Joe Carnahan, Peter Craig, Chris Bremner]</td>\n",
       "      <td>[Adil El Arbi, Bilall Fallah]</td>\n",
       "      <td>Action</td>\n",
       "      <td>2020</td>\n",
       "      <td>01-15</td>\n",
       "      <td>[detective, sequel, police officer, police det...</td>\n",
       "    </tr>\n",
       "    <tr>\n",
       "      <td>0</td>\n",
       "      <td>38700</td>\n",
       "      <td>Bad Boys for Life</td>\n",
       "      <td>419074646</td>\n",
       "      <td>90000000</td>\n",
       "      <td>[Joe Carnahan, Peter Craig, Chris Bremner]</td>\n",
       "      <td>[Adil El Arbi, Bilall Fallah]</td>\n",
       "      <td>Crime</td>\n",
       "      <td>2020</td>\n",
       "      <td>01-15</td>\n",
       "      <td>[detective, sequel, police officer, police det...</td>\n",
       "    </tr>\n",
       "    <tr>\n",
       "      <td>1</td>\n",
       "      <td>454626</td>\n",
       "      <td>Sonic the Hedgehog</td>\n",
       "      <td>306766470</td>\n",
       "      <td>85000000</td>\n",
       "      <td>[Josh Miller, Patrick Casey]</td>\n",
       "      <td>[Jeff Fowler]</td>\n",
       "      <td>Action</td>\n",
       "      <td>2020</td>\n",
       "      <td>02-12</td>\n",
       "      <td>[video game, san francisco, california, friend...</td>\n",
       "    </tr>\n",
       "    <tr>\n",
       "      <td>1</td>\n",
       "      <td>454626</td>\n",
       "      <td>Sonic the Hedgehog</td>\n",
       "      <td>306766470</td>\n",
       "      <td>85000000</td>\n",
       "      <td>[Josh Miller, Patrick Casey]</td>\n",
       "      <td>[Jeff Fowler]</td>\n",
       "      <td>Science Fiction</td>\n",
       "      <td>2020</td>\n",
       "      <td>02-12</td>\n",
       "      <td>[video game, san francisco, california, friend...</td>\n",
       "    </tr>\n",
       "    <tr>\n",
       "      <td>...</td>\n",
       "      <td>...</td>\n",
       "      <td>...</td>\n",
       "      <td>...</td>\n",
       "      <td>...</td>\n",
       "      <td>...</td>\n",
       "      <td>...</td>\n",
       "      <td>...</td>\n",
       "      <td>...</td>\n",
       "      <td>...</td>\n",
       "      <td>...</td>\n",
       "    </tr>\n",
       "    <tr>\n",
       "      <td>31</td>\n",
       "      <td>446893</td>\n",
       "      <td>Trolls World Tour</td>\n",
       "      <td>1946164</td>\n",
       "      <td>0</td>\n",
       "      <td>[Wallace Wolodarsky, Glenn Berger, Jonathan Ai...</td>\n",
       "      <td>[Walt Dohrn]</td>\n",
       "      <td>Family</td>\n",
       "      <td>2020</td>\n",
       "      <td>03-12</td>\n",
       "      <td>[sequel, based on toy]</td>\n",
       "    </tr>\n",
       "    <tr>\n",
       "      <td>31</td>\n",
       "      <td>446893</td>\n",
       "      <td>Trolls World Tour</td>\n",
       "      <td>1946164</td>\n",
       "      <td>0</td>\n",
       "      <td>[Wallace Wolodarsky, Glenn Berger, Jonathan Ai...</td>\n",
       "      <td>[Walt Dohrn]</td>\n",
       "      <td>Comedy</td>\n",
       "      <td>2020</td>\n",
       "      <td>03-12</td>\n",
       "      <td>[sequel, based on toy]</td>\n",
       "    </tr>\n",
       "    <tr>\n",
       "      <td>31</td>\n",
       "      <td>446893</td>\n",
       "      <td>Trolls World Tour</td>\n",
       "      <td>1946164</td>\n",
       "      <td>0</td>\n",
       "      <td>[Wallace Wolodarsky, Glenn Berger, Jonathan Ai...</td>\n",
       "      <td>[Walt Dohrn]</td>\n",
       "      <td>Fantasy</td>\n",
       "      <td>2020</td>\n",
       "      <td>03-12</td>\n",
       "      <td>[sequel, based on toy]</td>\n",
       "    </tr>\n",
       "    <tr>\n",
       "      <td>31</td>\n",
       "      <td>446893</td>\n",
       "      <td>Trolls World Tour</td>\n",
       "      <td>1946164</td>\n",
       "      <td>0</td>\n",
       "      <td>[Wallace Wolodarsky, Glenn Berger, Jonathan Ai...</td>\n",
       "      <td>[Walt Dohrn]</td>\n",
       "      <td>Adventure</td>\n",
       "      <td>2020</td>\n",
       "      <td>03-12</td>\n",
       "      <td>[sequel, based on toy]</td>\n",
       "    </tr>\n",
       "    <tr>\n",
       "      <td>31</td>\n",
       "      <td>446893</td>\n",
       "      <td>Trolls World Tour</td>\n",
       "      <td>1946164</td>\n",
       "      <td>0</td>\n",
       "      <td>[Wallace Wolodarsky, Glenn Berger, Jonathan Ai...</td>\n",
       "      <td>[Walt Dohrn]</td>\n",
       "      <td>Music</td>\n",
       "      <td>2020</td>\n",
       "      <td>03-12</td>\n",
       "      <td>[sequel, based on toy]</td>\n",
       "    </tr>\n",
       "  </tbody>\n",
       "</table>\n",
       "<p>87 rows × 10 columns</p>\n",
       "</div>"
      ],
      "text/plain": [
       "        id               title    revenue    budget  \\\n",
       "0    38700   Bad Boys for Life  419074646  90000000   \n",
       "0    38700   Bad Boys for Life  419074646  90000000   \n",
       "0    38700   Bad Boys for Life  419074646  90000000   \n",
       "1   454626  Sonic the Hedgehog  306766470  85000000   \n",
       "1   454626  Sonic the Hedgehog  306766470  85000000   \n",
       "..     ...                 ...        ...       ...   \n",
       "31  446893   Trolls World Tour    1946164         0   \n",
       "31  446893   Trolls World Tour    1946164         0   \n",
       "31  446893   Trolls World Tour    1946164         0   \n",
       "31  446893   Trolls World Tour    1946164         0   \n",
       "31  446893   Trolls World Tour    1946164         0   \n",
       "\n",
       "                                               writer  \\\n",
       "0          [Joe Carnahan, Peter Craig, Chris Bremner]   \n",
       "0          [Joe Carnahan, Peter Craig, Chris Bremner]   \n",
       "0          [Joe Carnahan, Peter Craig, Chris Bremner]   \n",
       "1                        [Josh Miller, Patrick Casey]   \n",
       "1                        [Josh Miller, Patrick Casey]   \n",
       "..                                                ...   \n",
       "31  [Wallace Wolodarsky, Glenn Berger, Jonathan Ai...   \n",
       "31  [Wallace Wolodarsky, Glenn Berger, Jonathan Ai...   \n",
       "31  [Wallace Wolodarsky, Glenn Berger, Jonathan Ai...   \n",
       "31  [Wallace Wolodarsky, Glenn Berger, Jonathan Ai...   \n",
       "31  [Wallace Wolodarsky, Glenn Berger, Jonathan Ai...   \n",
       "\n",
       "                         director           genres  year   date  \\\n",
       "0   [Adil El Arbi, Bilall Fallah]         Thriller  2020  01-15   \n",
       "0   [Adil El Arbi, Bilall Fallah]           Action  2020  01-15   \n",
       "0   [Adil El Arbi, Bilall Fallah]            Crime  2020  01-15   \n",
       "1                   [Jeff Fowler]           Action  2020  02-12   \n",
       "1                   [Jeff Fowler]  Science Fiction  2020  02-12   \n",
       "..                            ...              ...   ...    ...   \n",
       "31                   [Walt Dohrn]           Family  2020  03-12   \n",
       "31                   [Walt Dohrn]           Comedy  2020  03-12   \n",
       "31                   [Walt Dohrn]          Fantasy  2020  03-12   \n",
       "31                   [Walt Dohrn]        Adventure  2020  03-12   \n",
       "31                   [Walt Dohrn]            Music  2020  03-12   \n",
       "\n",
       "                                             keywords  \n",
       "0   [detective, sequel, police officer, police det...  \n",
       "0   [detective, sequel, police officer, police det...  \n",
       "0   [detective, sequel, police officer, police det...  \n",
       "1   [video game, san francisco, california, friend...  \n",
       "1   [video game, san francisco, california, friend...  \n",
       "..                                                ...  \n",
       "31                             [sequel, based on toy]  \n",
       "31                             [sequel, based on toy]  \n",
       "31                             [sequel, based on toy]  \n",
       "31                             [sequel, based on toy]  \n",
       "31                             [sequel, based on toy]  \n",
       "\n",
       "[87 rows x 10 columns]"
      ]
     },
     "execution_count": 42,
     "metadata": {},
     "output_type": "execute_result"
    }
   ],
   "source": [
    "year_20_df"
   ]
  },
  {
   "cell_type": "code",
   "execution_count": 43,
   "metadata": {
    "pycharm": {
     "name": "#%%\n"
    }
   },
   "outputs": [
    {
     "data": {
      "text/plain": [
       "<matplotlib.axes._subplots.AxesSubplot at 0x251a128d630>"
      ]
     },
     "execution_count": 43,
     "metadata": {},
     "output_type": "execute_result"
    },
    {
     "data": {
      "image/png": "[encoded data removed]",
      "text/plain": [
       "<Figure size 432x288 with 1 Axes>"
      ]
     },
     "metadata": {
      "needs_background": "light"
     },
     "output_type": "display_data"
    }
   ],
   "source": [
    "sns.barplot(orient='h', data=year_20_df, x='revenue', y='genres')"
   ]
  },
  {
   "cell_type": "markdown",
   "metadata": {},
   "source": [
    "#### Plot to compare average revenue by genre from 2019 to 2020 so far"
   ]
  },
  {
   "cell_type": "code",
   "execution_count": 44,
   "metadata": {
    "pycharm": {
     "name": "#%%\n"
    }
   },
   "outputs": [
    {
     "data": {
      "text/plain": [
       "Text(0.5, 0.98, 'Average Revenues by Genre in 2019, 2020')"
      ]
     },
     "execution_count": 44,
     "metadata": {},
     "output_type": "execute_result"
    },
    {
     "data": {
      "image/png": "[encoded data removed]",
      "text/plain": [
       "<Figure size 1080x720 with 2 Axes>"
      ]
     },
     "metadata": {
      "needs_background": "light"
     },
     "output_type": "display_data"
    }
   ],
   "source": [
    "fig, ax1 = plt.subplots(1, 2, figsize=(15,10), sharey=True)\n",
    "sns.barplot(orient='h', data=year_19_df, x='revenue', y='genres', ax=ax1[0])\n",
    "ax1[0].set_title(\"2019\")\n",
    "ax1[0].set_xlabel(\"Revenue (100M)\")\n",
    "ax1[0].set_ylabel('Genres')\n",
    "sns.barplot(orient='h', data=year_20_df, x='revenue', y='genres', ax=ax1[1])\n",
    "sns.pointplot(data=year_19_df, x='revenue', y='genres', ax=ax1[1])\n",
    "ax1[1].set_title('2020 So Far vs. 2019')\n",
    "ax1[1].set_xlabel('Revenue (100M)')\n",
    "ax1[1].set_ylabel(\"\")\n",
    "fig.suptitle(\"Average Revenues by Genre in 2019, 2020\")"
   ]
  },
  {
   "cell_type": "markdown",
   "metadata": {},
   "source": [
    "## Q: Who are the top writers for the top genres, and how much revenue do their movies pull?\n",
    "\n",
    "- A: The screenwriter may have a significant effect on a film's performance. Even as far down as #30 in the list, these writers' films are outperforming the overall average by a factor of 4.\n",
    "\n",
    "- Recommendation: Hire writers from this list, especially those who have had success with similar films."
   ]
  },
  {
   "cell_type": "code",
   "execution_count": 47,
   "metadata": {
    "pycharm": {
     "name": "#%%\n"
    }
   },
   "outputs": [
    {
     "data": {
      "text/html": [
       "<div>\n",
       "<style scoped>\n",
       "    .dataframe tbody tr th:only-of-type {\n",
       "        vertical-align: middle;\n",
       "    }\n",
       "\n",
       "    .dataframe tbody tr th {\n",
       "        vertical-align: top;\n",
       "    }\n",
       "\n",
       "    .dataframe thead th {\n",
       "        text-align: right;\n",
       "    }\n",
       "</style>\n",
       "<table border=\"1\" class=\"dataframe\">\n",
       "  <thead>\n",
       "    <tr style=\"text-align: right;\">\n",
       "      <th></th>\n",
       "      <th>id</th>\n",
       "      <th>title</th>\n",
       "      <th>revenue</th>\n",
       "      <th>budget</th>\n",
       "      <th>writer</th>\n",
       "      <th>director</th>\n",
       "      <th>genres</th>\n",
       "      <th>year</th>\n",
       "      <th>date</th>\n",
       "      <th>keywords</th>\n",
       "    </tr>\n",
       "  </thead>\n",
       "  <tbody>\n",
       "    <tr>\n",
       "      <td>1795</td>\n",
       "      <td>299534</td>\n",
       "      <td>Avengers: Endgame</td>\n",
       "      <td>2797800564</td>\n",
       "      <td>356000000</td>\n",
       "      <td>[Christopher Markus, Stephen McFeely]</td>\n",
       "      <td>[Anthony Russo, Joe Russo]</td>\n",
       "      <td>Adventure</td>\n",
       "      <td>2019</td>\n",
       "      <td>04-24</td>\n",
       "      <td>[space travel, time travel, time machine, sequ...</td>\n",
       "    </tr>\n",
       "    <tr>\n",
       "      <td>1795</td>\n",
       "      <td>299534</td>\n",
       "      <td>Avengers: Endgame</td>\n",
       "      <td>2797800564</td>\n",
       "      <td>356000000</td>\n",
       "      <td>[Christopher Markus, Stephen McFeely]</td>\n",
       "      <td>[Anthony Russo, Joe Russo]</td>\n",
       "      <td>Science Fiction</td>\n",
       "      <td>2019</td>\n",
       "      <td>04-24</td>\n",
       "      <td>[space travel, time travel, time machine, sequ...</td>\n",
       "    </tr>\n",
       "    <tr>\n",
       "      <td>1795</td>\n",
       "      <td>299534</td>\n",
       "      <td>Avengers: Endgame</td>\n",
       "      <td>2797800564</td>\n",
       "      <td>356000000</td>\n",
       "      <td>[Christopher Markus, Stephen McFeely]</td>\n",
       "      <td>[Anthony Russo, Joe Russo]</td>\n",
       "      <td>Action</td>\n",
       "      <td>2019</td>\n",
       "      <td>04-24</td>\n",
       "      <td>[space travel, time travel, time machine, sequ...</td>\n",
       "    </tr>\n",
       "    <tr>\n",
       "      <td>997</td>\n",
       "      <td>140607</td>\n",
       "      <td>Star Wars: The Force Awakens</td>\n",
       "      <td>2068223624</td>\n",
       "      <td>245000000</td>\n",
       "      <td>[Lawrence Kasdan, Michael Arndt, J.J. Abrams]</td>\n",
       "      <td>[J.J. Abrams]</td>\n",
       "      <td>Fantasy</td>\n",
       "      <td>2015</td>\n",
       "      <td>12-15</td>\n",
       "      <td>[android, spacecraft, jedi, imax, space opera,...</td>\n",
       "    </tr>\n",
       "    <tr>\n",
       "      <td>997</td>\n",
       "      <td>140607</td>\n",
       "      <td>Star Wars: The Force Awakens</td>\n",
       "      <td>2068223624</td>\n",
       "      <td>245000000</td>\n",
       "      <td>[Lawrence Kasdan, Michael Arndt, J.J. Abrams]</td>\n",
       "      <td>[J.J. Abrams]</td>\n",
       "      <td>Science Fiction</td>\n",
       "      <td>2015</td>\n",
       "      <td>12-15</td>\n",
       "      <td>[android, spacecraft, jedi, imax, space opera,...</td>\n",
       "    </tr>\n",
       "  </tbody>\n",
       "</table>\n",
       "</div>"
      ],
      "text/plain": [
       "          id                         title     revenue     budget  \\\n",
       "1795  299534             Avengers: Endgame  2797800564  356000000   \n",
       "1795  299534             Avengers: Endgame  2797800564  356000000   \n",
       "1795  299534             Avengers: Endgame  2797800564  356000000   \n",
       "997   140607  Star Wars: The Force Awakens  2068223624  245000000   \n",
       "997   140607  Star Wars: The Force Awakens  2068223624  245000000   \n",
       "\n",
       "                                             writer  \\\n",
       "1795          [Christopher Markus, Stephen McFeely]   \n",
       "1795          [Christopher Markus, Stephen McFeely]   \n",
       "1795          [Christopher Markus, Stephen McFeely]   \n",
       "997   [Lawrence Kasdan, Michael Arndt, J.J. Abrams]   \n",
       "997   [Lawrence Kasdan, Michael Arndt, J.J. Abrams]   \n",
       "\n",
       "                        director           genres  year   date  \\\n",
       "1795  [Anthony Russo, Joe Russo]        Adventure  2019  04-24   \n",
       "1795  [Anthony Russo, Joe Russo]  Science Fiction  2019  04-24   \n",
       "1795  [Anthony Russo, Joe Russo]           Action  2019  04-24   \n",
       "997                [J.J. Abrams]          Fantasy  2015  12-15   \n",
       "997                [J.J. Abrams]  Science Fiction  2015  12-15   \n",
       "\n",
       "                                               keywords  \n",
       "1795  [space travel, time travel, time machine, sequ...  \n",
       "1795  [space travel, time travel, time machine, sequ...  \n",
       "1795  [space travel, time travel, time machine, sequ...  \n",
       "997   [android, spacecraft, jedi, imax, space opera,...  \n",
       "997   [android, spacecraft, jedi, imax, space opera,...  "
      ]
     },
     "execution_count": 47,
     "metadata": {},
     "output_type": "execute_result"
    }
   ],
   "source": [
    "best_genres_df = genre_df[(genre_df.genres.isin(gen1))|(genre_df.genres.isin(gen2))]\n",
    "best_genres_df.sort_values('revenue', ascending=False).head()"
   ]
  },
  {
   "cell_type": "code",
   "execution_count": 84,
   "metadata": {
    "pycharm": {
     "name": "#%%\n"
    }
   },
   "outputs": [],
   "source": [
    "writers_df = best_genres_df.drop(columns=['genres', 'director', 'keywords'])"
   ]
  },
  {
   "cell_type": "code",
   "execution_count": 85,
   "metadata": {
    "pycharm": {
     "name": "#%%\n"
    }
   },
   "outputs": [],
   "source": [
    "writers_df = writers_df.explode('writer')\n",
    "writers_df = writers_df.drop_duplicates()"
   ]
  },
  {
   "cell_type": "code",
   "execution_count": 86,
   "metadata": {
    "pycharm": {
     "name": "#%%\n"
    }
   },
   "outputs": [
    {
     "data": {
      "text/plain": [
       "0"
      ]
     },
     "execution_count": 86,
     "metadata": {},
     "output_type": "execute_result"
    }
   ],
   "source": [
    "writers_df.duplicated().sum()"
   ]
  },
  {
   "cell_type": "code",
   "execution_count": 87,
   "metadata": {
    "pycharm": {
     "name": "#%%\n"
    }
   },
   "outputs": [],
   "source": [
    "writers_plot = writers_df.groupby(['writer']).mean().sort_values(['revenue'], ascending=False).head(30)"
   ]
  },
  {
   "cell_type": "code",
   "execution_count": 88,
   "metadata": {
    "pycharm": {
     "name": "#%%\n"
    }
   },
   "outputs": [
    {
     "data": {
      "text/plain": [
       "Text(0, 0.5, '')"
      ]
     },
     "execution_count": 88,
     "metadata": {},
     "output_type": "execute_result"
    },
    {
     "data": {
      "image/png": "[encoded data removed]",
      "text/plain": [
       "<Figure size 720x720 with 1 Axes>"
      ]
     },
     "metadata": {
      "needs_background": "light"
     },
     "output_type": "display_data"
    }
   ],
   "source": [
    "fig, ax = plt.subplots(figsize=(10,10))\n",
    "sns.barplot(data=writers_plot, x='revenue', y=writers_plot.index, orient='h', ax=ax)\n",
    "plt.axvline(x=writers_df.revenue.mean(), dashes=(1,2))\n",
    "plt.axvline(x=1000000000, c='grey', dashes=(1,2))\n",
    "plt.title('Top 30 Writers for Top Genres')\n",
    "plt.xlabel('Average Revenue in Billions')\n",
    "plt.ylabel('')"
   ]
  },
  {
   "cell_type": "markdown",
   "metadata": {},
   "source": [
    "## What keywords describe the best-performing movies?\n",
    "\n",
    "- A: Many popular movies are based on other popular media. Movies featuring dystopian futures, magic, aliens, the battle of good and evil, and superpowers are quite popular.\n",
    "\n",
    "- Recommendation: I would recommend making a movie based on an existing book series, whether that be a series of novels or a series of comics. Basing a film on a series opens up the door for future sequels, which is #3 on the list of top keywords. Many of the top keywords (dystopia, alien, spacecraft, robot, etc.) lend themselves well to Science Fiction pictures."
   ]
  },
  {
   "cell_type": "code",
   "execution_count": 89,
   "metadata": {
    "pycharm": {
     "name": "#%%\n"
    }
   },
   "outputs": [
    {
     "data": {
      "text/html": [
       "<div>\n",
       "<style scoped>\n",
       "    .dataframe tbody tr th:only-of-type {\n",
       "        vertical-align: middle;\n",
       "    }\n",
       "\n",
       "    .dataframe tbody tr th {\n",
       "        vertical-align: top;\n",
       "    }\n",
       "\n",
       "    .dataframe thead th {\n",
       "        text-align: right;\n",
       "    }\n",
       "</style>\n",
       "<table border=\"1\" class=\"dataframe\">\n",
       "  <thead>\n",
       "    <tr style=\"text-align: right;\">\n",
       "      <th></th>\n",
       "      <th>id</th>\n",
       "      <th>title</th>\n",
       "      <th>revenue</th>\n",
       "      <th>budget</th>\n",
       "      <th>year</th>\n",
       "      <th>date</th>\n",
       "      <th>keywords</th>\n",
       "    </tr>\n",
       "  </thead>\n",
       "  <tbody>\n",
       "    <tr>\n",
       "      <td>0</td>\n",
       "      <td>10193</td>\n",
       "      <td>Toy Story 3</td>\n",
       "      <td>1066969703</td>\n",
       "      <td>200000000</td>\n",
       "      <td>2010</td>\n",
       "      <td>06-16</td>\n",
       "      <td>[hostage, college, toy, escape, daycare, teddy...</td>\n",
       "    </tr>\n",
       "    <tr>\n",
       "      <td>0</td>\n",
       "      <td>10193</td>\n",
       "      <td>Toy Story 3</td>\n",
       "      <td>1066969703</td>\n",
       "      <td>200000000</td>\n",
       "      <td>2010</td>\n",
       "      <td>06-16</td>\n",
       "      <td>[hostage, college, toy, escape, daycare, teddy...</td>\n",
       "    </tr>\n",
       "    <tr>\n",
       "      <td>1</td>\n",
       "      <td>12155</td>\n",
       "      <td>Alice in Wonderland</td>\n",
       "      <td>1025467110</td>\n",
       "      <td>200000000</td>\n",
       "      <td>2010</td>\n",
       "      <td>03-03</td>\n",
       "      <td>[based on novel or book, queen, fantasy world,...</td>\n",
       "    </tr>\n",
       "    <tr>\n",
       "      <td>1</td>\n",
       "      <td>12155</td>\n",
       "      <td>Alice in Wonderland</td>\n",
       "      <td>1025467110</td>\n",
       "      <td>200000000</td>\n",
       "      <td>2010</td>\n",
       "      <td>03-03</td>\n",
       "      <td>[based on novel or book, queen, fantasy world,...</td>\n",
       "    </tr>\n",
       "    <tr>\n",
       "      <td>1</td>\n",
       "      <td>12155</td>\n",
       "      <td>Alice in Wonderland</td>\n",
       "      <td>1025467110</td>\n",
       "      <td>200000000</td>\n",
       "      <td>2010</td>\n",
       "      <td>03-03</td>\n",
       "      <td>[based on novel or book, queen, fantasy world,...</td>\n",
       "    </tr>\n",
       "  </tbody>\n",
       "</table>\n",
       "</div>"
      ],
      "text/plain": [
       "      id                title     revenue     budget  year   date  \\\n",
       "0  10193          Toy Story 3  1066969703  200000000  2010  06-16   \n",
       "0  10193          Toy Story 3  1066969703  200000000  2010  06-16   \n",
       "1  12155  Alice in Wonderland  1025467110  200000000  2010  03-03   \n",
       "1  12155  Alice in Wonderland  1025467110  200000000  2010  03-03   \n",
       "1  12155  Alice in Wonderland  1025467110  200000000  2010  03-03   \n",
       "\n",
       "                                            keywords  \n",
       "0  [hostage, college, toy, escape, daycare, teddy...  \n",
       "0  [hostage, college, toy, escape, daycare, teddy...  \n",
       "1  [based on novel or book, queen, fantasy world,...  \n",
       "1  [based on novel or book, queen, fantasy world,...  \n",
       "1  [based on novel or book, queen, fantasy world,...  "
      ]
     },
     "execution_count": 89,
     "metadata": {},
     "output_type": "execute_result"
    }
   ],
   "source": [
    "keywords_df = best_genres_df.drop(columns=['writer', 'director', 'genres'])\n",
    "keywords_df.head()"
   ]
  },
  {
   "cell_type": "code",
   "execution_count": 90,
   "metadata": {
    "pycharm": {
     "name": "#%%\n"
    }
   },
   "outputs": [],
   "source": [
    "keywords_df = keywords_df.explode('keywords')"
   ]
  },
  {
   "cell_type": "code",
   "execution_count": 91,
   "metadata": {
    "pycharm": {
     "name": "#%%\n"
    }
   },
   "outputs": [],
   "source": [
    "keywords_df = keywords_df.drop_duplicates()"
   ]
  },
  {
   "cell_type": "code",
   "execution_count": 92,
   "metadata": {
    "pycharm": {
     "name": "#%%\n"
    }
   },
   "outputs": [
    {
     "data": {
      "text/plain": [
       "7797"
      ]
     },
     "execution_count": 92,
     "metadata": {},
     "output_type": "execute_result"
    }
   ],
   "source": [
    "keywords_df = keywords_df.dropna()\n",
    "len(keywords_df)"
   ]
  },
  {
   "cell_type": "code",
   "execution_count": 93,
   "metadata": {
    "pycharm": {
     "name": "#%%\n"
    }
   },
   "outputs": [
    {
     "data": {
      "text/plain": [
       "3850"
      ]
     },
     "execution_count": 93,
     "metadata": {},
     "output_type": "execute_result"
    }
   ],
   "source": [
    "keywords_df = keywords_df[keywords_df.revenue.gt(df.revenue.mean())]\n",
    "len(keywords_df)"
   ]
  },
  {
   "cell_type": "code",
   "execution_count": 94,
   "metadata": {
    "pycharm": {
     "name": "#%%\n"
    }
   },
   "outputs": [
    {
     "data": {
      "text/plain": [
       "duringcreditsstinger          72\n",
       "3d                            69\n",
       "sequel                        69\n",
       "aftercreditsstinger           53\n",
       "based on comic                52\n",
       "based on novel or book        46\n",
       "superhero                     45\n",
       "dystopia                      36\n",
       "based on young adult novel    25\n",
       "magic                         23\n",
       "marvel cinematic universe     22\n",
       "anthropomorphism              21\n",
       "super power                   20\n",
       "alien                         18\n",
       "remake                        17\n",
       "imax                          17\n",
       "spacecraft                    16\n",
       "good vs evil                  16\n",
       "spy                           14\n",
       "friendship                    14\n",
       "robot                         14\n",
       "future                        14\n",
       "new york city                 14\n",
       "revenge                       13\n",
       "space                         13\n",
       "family                        12\n",
       "musical                       11\n",
       "alien invasion                11\n",
       "london, england               11\n",
       "based on video game           11\n",
       "Name: keywords, dtype: int64"
      ]
     },
     "execution_count": 94,
     "metadata": {},
     "output_type": "execute_result"
    }
   ],
   "source": [
    "keywords_plot = keywords_df.keywords.value_counts()[:30]\n",
    "keywords_plot"
   ]
  },
  {
   "cell_type": "code",
   "execution_count": 95,
   "metadata": {
    "pycharm": {
     "name": "#%%\n"
    }
   },
   "outputs": [],
   "source": [
    "keywords_plot = pd.DataFrame(keywords_plot).reset_index()"
   ]
  },
  {
   "cell_type": "code",
   "execution_count": 96,
   "metadata": {
    "pycharm": {
     "name": "#%%\n"
    }
   },
   "outputs": [
    {
     "data": {
      "text/html": [
       "<div>\n",
       "<style scoped>\n",
       "    .dataframe tbody tr th:only-of-type {\n",
       "        vertical-align: middle;\n",
       "    }\n",
       "\n",
       "    .dataframe tbody tr th {\n",
       "        vertical-align: top;\n",
       "    }\n",
       "\n",
       "    .dataframe thead th {\n",
       "        text-align: right;\n",
       "    }\n",
       "</style>\n",
       "<table border=\"1\" class=\"dataframe\">\n",
       "  <thead>\n",
       "    <tr style=\"text-align: right;\">\n",
       "      <th></th>\n",
       "      <th>index</th>\n",
       "      <th>keywords</th>\n",
       "    </tr>\n",
       "  </thead>\n",
       "  <tbody>\n",
       "    <tr>\n",
       "      <td>0</td>\n",
       "      <td>duringcreditsstinger</td>\n",
       "      <td>72</td>\n",
       "    </tr>\n",
       "    <tr>\n",
       "      <td>1</td>\n",
       "      <td>3d</td>\n",
       "      <td>69</td>\n",
       "    </tr>\n",
       "    <tr>\n",
       "      <td>2</td>\n",
       "      <td>sequel</td>\n",
       "      <td>69</td>\n",
       "    </tr>\n",
       "    <tr>\n",
       "      <td>3</td>\n",
       "      <td>aftercreditsstinger</td>\n",
       "      <td>53</td>\n",
       "    </tr>\n",
       "    <tr>\n",
       "      <td>4</td>\n",
       "      <td>based on comic</td>\n",
       "      <td>52</td>\n",
       "    </tr>\n",
       "    <tr>\n",
       "      <td>5</td>\n",
       "      <td>based on novel or book</td>\n",
       "      <td>46</td>\n",
       "    </tr>\n",
       "    <tr>\n",
       "      <td>6</td>\n",
       "      <td>superhero</td>\n",
       "      <td>45</td>\n",
       "    </tr>\n",
       "    <tr>\n",
       "      <td>7</td>\n",
       "      <td>dystopia</td>\n",
       "      <td>36</td>\n",
       "    </tr>\n",
       "    <tr>\n",
       "      <td>8</td>\n",
       "      <td>based on young adult novel</td>\n",
       "      <td>25</td>\n",
       "    </tr>\n",
       "    <tr>\n",
       "      <td>9</td>\n",
       "      <td>magic</td>\n",
       "      <td>23</td>\n",
       "    </tr>\n",
       "    <tr>\n",
       "      <td>10</td>\n",
       "      <td>marvel cinematic universe</td>\n",
       "      <td>22</td>\n",
       "    </tr>\n",
       "    <tr>\n",
       "      <td>11</td>\n",
       "      <td>anthropomorphism</td>\n",
       "      <td>21</td>\n",
       "    </tr>\n",
       "    <tr>\n",
       "      <td>12</td>\n",
       "      <td>super power</td>\n",
       "      <td>20</td>\n",
       "    </tr>\n",
       "    <tr>\n",
       "      <td>13</td>\n",
       "      <td>alien</td>\n",
       "      <td>18</td>\n",
       "    </tr>\n",
       "    <tr>\n",
       "      <td>14</td>\n",
       "      <td>remake</td>\n",
       "      <td>17</td>\n",
       "    </tr>\n",
       "    <tr>\n",
       "      <td>15</td>\n",
       "      <td>imax</td>\n",
       "      <td>17</td>\n",
       "    </tr>\n",
       "    <tr>\n",
       "      <td>16</td>\n",
       "      <td>spacecraft</td>\n",
       "      <td>16</td>\n",
       "    </tr>\n",
       "    <tr>\n",
       "      <td>17</td>\n",
       "      <td>good vs evil</td>\n",
       "      <td>16</td>\n",
       "    </tr>\n",
       "    <tr>\n",
       "      <td>18</td>\n",
       "      <td>spy</td>\n",
       "      <td>14</td>\n",
       "    </tr>\n",
       "    <tr>\n",
       "      <td>19</td>\n",
       "      <td>friendship</td>\n",
       "      <td>14</td>\n",
       "    </tr>\n",
       "    <tr>\n",
       "      <td>20</td>\n",
       "      <td>robot</td>\n",
       "      <td>14</td>\n",
       "    </tr>\n",
       "    <tr>\n",
       "      <td>21</td>\n",
       "      <td>future</td>\n",
       "      <td>14</td>\n",
       "    </tr>\n",
       "    <tr>\n",
       "      <td>22</td>\n",
       "      <td>new york city</td>\n",
       "      <td>14</td>\n",
       "    </tr>\n",
       "    <tr>\n",
       "      <td>23</td>\n",
       "      <td>revenge</td>\n",
       "      <td>13</td>\n",
       "    </tr>\n",
       "    <tr>\n",
       "      <td>24</td>\n",
       "      <td>space</td>\n",
       "      <td>13</td>\n",
       "    </tr>\n",
       "    <tr>\n",
       "      <td>25</td>\n",
       "      <td>family</td>\n",
       "      <td>12</td>\n",
       "    </tr>\n",
       "    <tr>\n",
       "      <td>26</td>\n",
       "      <td>musical</td>\n",
       "      <td>11</td>\n",
       "    </tr>\n",
       "    <tr>\n",
       "      <td>27</td>\n",
       "      <td>alien invasion</td>\n",
       "      <td>11</td>\n",
       "    </tr>\n",
       "    <tr>\n",
       "      <td>28</td>\n",
       "      <td>london, england</td>\n",
       "      <td>11</td>\n",
       "    </tr>\n",
       "    <tr>\n",
       "      <td>29</td>\n",
       "      <td>based on video game</td>\n",
       "      <td>11</td>\n",
       "    </tr>\n",
       "  </tbody>\n",
       "</table>\n",
       "</div>"
      ],
      "text/plain": [
       "                         index  keywords\n",
       "0         duringcreditsstinger        72\n",
       "1                           3d        69\n",
       "2                       sequel        69\n",
       "3          aftercreditsstinger        53\n",
       "4               based on comic        52\n",
       "5       based on novel or book        46\n",
       "6                    superhero        45\n",
       "7                     dystopia        36\n",
       "8   based on young adult novel        25\n",
       "9                        magic        23\n",
       "10   marvel cinematic universe        22\n",
       "11            anthropomorphism        21\n",
       "12                 super power        20\n",
       "13                       alien        18\n",
       "14                      remake        17\n",
       "15                        imax        17\n",
       "16                  spacecraft        16\n",
       "17                good vs evil        16\n",
       "18                         spy        14\n",
       "19                  friendship        14\n",
       "20                       robot        14\n",
       "21                      future        14\n",
       "22               new york city        14\n",
       "23                     revenge        13\n",
       "24                       space        13\n",
       "25                      family        12\n",
       "26                     musical        11\n",
       "27              alien invasion        11\n",
       "28             london, england        11\n",
       "29         based on video game        11"
      ]
     },
     "execution_count": 96,
     "metadata": {},
     "output_type": "execute_result"
    }
   ],
   "source": [
    "keywords_plot"
   ]
  },
  {
   "cell_type": "code",
   "execution_count": 97,
   "metadata": {
    "pycharm": {
     "name": "#%%\n"
    }
   },
   "outputs": [
    {
     "data": {
      "text/plain": [
       "Text(0, 0.5, 'Keywords')"
      ]
     },
     "execution_count": 97,
     "metadata": {},
     "output_type": "execute_result"
    },
    {
     "data": {
      "image/png": "[encoded data removed]",
      "text/plain": [
       "<Figure size 720x720 with 1 Axes>"
      ]
     },
     "metadata": {
      "needs_background": "light"
     },
     "output_type": "display_data"
    }
   ],
   "source": [
    "fig, ax = plt.subplots(figsize=(10,10))\n",
    "sns.barplot(data=keywords_plot, orient='h', x='keywords', y='index', ax=ax)\n",
    "plt.title('Most Recurring Keywords in Top Genres')\n",
    "plt.xlabel('Number of Films')\n",
    "plt.ylabel('Keywords')"
   ]
  },
  {
   "cell_type": "markdown",
   "metadata": {},
   "source": [
    "##### Obviously, there are some here that we can't use, like 'sequel' or 'marvel cinematic universe.' It stands to reason, though, that a movie left open for a sequel is a good investment. Also, movies based on books and comics seem to do well."
   ]
  },
  {
   "cell_type": "markdown",
   "metadata": {},
   "source": [
    "## What is the effect of release date on expected revenue?"
   ]
  },
  {
   "cell_type": "code",
   "execution_count": null,
   "metadata": {
    "pycharm": {
     "name": "#%%\n"
    }
   },
   "outputs": [],
   "source": [
    "df.head()"
   ]
  },
  {
   "cell_type": "markdown",
   "metadata": {},
   "source": [
    "#### Getting the month from the date column"
   ]
  },
  {
   "cell_type": "code",
   "execution_count": null,
   "metadata": {
    "pycharm": {
     "name": "#%%\n"
    }
   },
   "outputs": [],
   "source": [
    "df['month'] = [[x][0][:2] for x in df['date']]\n",
    "df.head()"
   ]
  },
  {
   "cell_type": "markdown",
   "metadata": {},
   "source": [
    "#### Using month to determine quarter"
   ]
  },
  {
   "cell_type": "code",
   "execution_count": null,
   "metadata": {
    "pycharm": {
     "name": "#%%\n"
    }
   },
   "outputs": [],
   "source": [
    "import math\n",
    "df['quarter'] = [math.ceil(int(x)/3) for x in df['month']]\n",
    "df"
   ]
  },
  {
   "cell_type": "markdown",
   "metadata": {},
   "source": [
    "#### Plot by quarter for 2010-2019"
   ]
  },
  {
   "cell_type": "code",
   "execution_count": null,
   "metadata": {
    "pycharm": {
     "name": "#%%\n"
    }
   },
   "outputs": [],
   "source": [
    "sns.lineplot(data=df, x='year', y='revenue', hue='quarter', palette='Dark2')"
   ]
  },
  {
   "cell_type": "markdown",
   "metadata": {},
   "source": [
    "#### find release quarters for 2020"
   ]
  },
  {
   "cell_type": "code",
   "execution_count": null,
   "metadata": {
    "pycharm": {
     "name": "#%%\n"
    }
   },
   "outputs": [],
   "source": [
    "year_20_df['month'] = [[x][0][:2] for x in year_20_df['date']]\n",
    "year_20_df['quarter'] = [math.ceil(int(x)/3) for x in year_20_df['month']]\n",
    "year_20_df.groupby('quarter').count()"
   ]
  },
  {
   "cell_type": "markdown",
   "metadata": {},
   "source": [
    "#### Plot 2020 by month since there are only 2 quarters to show"
   ]
  },
  {
   "cell_type": "code",
   "execution_count": null,
   "metadata": {
    "pycharm": {
     "name": "#%%\n"
    }
   },
   "outputs": [],
   "source": [
    "sns.lineplot(data=year_20_df, x='month', y='revenue')"
   ]
  },
  {
   "cell_type": "markdown",
   "metadata": {},
   "source": [
    "#### Show plot comparing past years quarterly to this year"
   ]
  },
  {
   "cell_type": "code",
   "execution_count": null,
   "metadata": {
    "pycharm": {
     "name": "#%%\n"
    }
   },
   "outputs": [],
   "source": [
    "fig, axes = plt.subplots(1, 2, figsize=(15,5), sharey=True)\n",
    "sns.lineplot(data=df, x='year', y='revenue', hue='quarter', palette='Dark2', ax=axes[0])\n",
    "sns.lineplot(data=year_20_df, x='month', y='revenue', ax=axes[1])\n",
    "axes[0].set_title('Revenue by Quarter 2010-2019')\n",
    "axes[0].set_xlabel('Year')\n",
    "axes[0].set_ylabel('Revenue (100M)')\n",
    "axes[1].set_title('Revenue by Month 2020')\n",
    "axes[1].set_xlabel('Month')\n",
    "fig.suptitle(\"A Comparison of Revenue by Release Schedule\")"
   ]
  },
  {
   "cell_type": "markdown",
   "metadata": {},
   "source": [
    "##### Here we can see that we can expect a bump in revenue in quarters 2 and 4. So, the best time to release our film is in the summer or during the holiday season. 2020 has not gotten its quarter 2 bump, presumably due to Covid-19 restrictions."
   ]
  },
  {
   "cell_type": "markdown",
   "metadata": {},
   "source": [
    "## Recommendation: Big budget Sci-Fi/Adventure film to (based on popular book or comic series) release in summer or the holiday season. Revenues are currently below expectations due to Covid-19, but we can expect that slump to be over before the film finishes production. Starting a film franchise is a good investment for revenue in the future."
   ]
  },
  {
   "cell_type": "code",
   "execution_count": null,
   "metadata": {
    "pycharm": {
     "name": "#%%\n"
    }
   },
   "outputs": [],
   "source": []
  }
 ],
 "metadata": {
  "kernelspec": {
   "display_name": "learn-env",
   "language": "python",
   "name": "learn-env"
  },
  "language_info": {
   "codemirror_mode": {
    "name": "ipython",
    "version": 3
   },
   "file_extension": ".py",
   "mimetype": "text/x-python",
   "name": "python",
   "nbconvert_exporter": "python",
   "pygments_lexer": "ipython3",
   "version": "3.6.9"
  },
  "toc": {
   "base_numbering": 1,
   "nav_menu": {},
   "number_sections": true,
   "sideBar": true,
   "skip_h1_title": false,
   "title_cell": "Table of Contents",
   "title_sidebar": "Contents",
   "toc_cell": false,
   "toc_position": {
    "height": "calc(100% - 180px)",
    "left": "10px",
    "top": "150px",
    "width": "235.8px"
   },
   "toc_section_display": true,
   "toc_window_display": true
  },
  "varInspector": {
   "cols": {
    "lenName": 16,
    "lenType": 16,
    "lenVar": 40
   },
   "kernels_config": {
    "python": {
     "delete_cmd_postfix": "",
     "delete_cmd_prefix": "del ",
     "library": "var_list.py",
     "varRefreshCmd": "print(var_dic_list())"
    },
    "r": {
     "delete_cmd_postfix": ") ",
     "delete_cmd_prefix": "rm(",
     "library": "var_list.r",
     "varRefreshCmd": "cat(var_dic_list()) "
    }
   },
   "position": {
    "height": "104.6px",
    "left": "899px",
    "right": "20px",
    "top": "4px",
    "width": "441.6px"
   },
   "types_to_exclude": [
    "module",
    "function",
    "builtin_function_or_method",
    "instance",
    "_Feature"
   ],
   "window_display": true
  }
 },
 "nbformat": 4,
 "nbformat_minor": 2
}
